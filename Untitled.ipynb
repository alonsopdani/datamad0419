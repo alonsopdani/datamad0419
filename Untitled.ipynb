{
 "cells": [
  {
   "cell_type": "code",
   "execution_count": 16,
   "metadata": {},
   "outputs": [],
   "source": [
    "def duplicates(id_column):\n",
    "    new_id_column = []\n",
    "    for i in range(len(id_column)):\n",
    "        new_id = str(id_column[i])\n",
    "        if new_id not in new_id_column:\n",
    "            new_id_column.append(new_id)\n",
    "        else:\n",
    "            new_id_column.append(new_id + \"a\")\n",
    "    return new_id_column"
   ]
  },
  {
   "cell_type": "code",
   "execution_count": 17,
   "metadata": {},
   "outputs": [
    {
     "name": "stdout",
     "output_type": "stream",
     "text": [
      "['1', '2', '3', '4', '5', '1a', '2a', '3a']\n"
     ]
    }
   ],
   "source": [
    "print(duplicates([1,2,3,4,5,1,2,3]))"
   ]
  }
 ],
 "metadata": {
  "kernelspec": {
   "display_name": "Python 3",
   "language": "python",
   "name": "python3"
  },
  "language_info": {
   "codemirror_mode": {
    "name": "ipython",
    "version": 3
   },
   "file_extension": ".py",
   "mimetype": "text/x-python",
   "name": "python",
   "nbconvert_exporter": "python",
   "pygments_lexer": "ipython3",
   "version": "3.6.7"
  }
 },
 "nbformat": 4,
 "nbformat_minor": 2
}
