{
 "cells": [
  {
   "cell_type": "code",
   "execution_count": null,
   "metadata": {},
   "outputs": [],
   "source": [
    "# Deodorant Evaporator\n",
    "def evaporator(content, evap_per_day, threshold):\n",
    "    days = 0\n",
    "    while content > content * (threshold / 100):\n",
    "        content = content - (content * evap_per_day / 100)\n",
    "        days += 1\n",
    "    return days\n",
    "\n",
    "print(evaporator(10, 10, 10))"
   ]
  },
  {
   "cell_type": "code",
   "execution_count": null,
   "metadata": {},
   "outputs": [],
   "source": [
    "def evaporator(content, evap_per_day, threshold):\n",
    "    days = 0\n",
    "    while content > content * (threshold / 100):\n",
    "        content = content - (content * evap_per_day / 100)\n",
    "        days += 1\n",
    "    return days"
   ]
  }
 ],
 "metadata": {
  "kernelspec": {
   "display_name": "Python 3",
   "language": "python",
   "name": "python3"
  },
  "language_info": {
   "codemirror_mode": {
    "name": "ipython",
    "version": 3
   },
   "file_extension": ".py",
   "mimetype": "text/x-python",
   "name": "python",
   "nbconvert_exporter": "python",
   "pygments_lexer": "ipython3",
   "version": "3.6.7"
  }
 },
 "nbformat": 4,
 "nbformat_minor": 2
}
