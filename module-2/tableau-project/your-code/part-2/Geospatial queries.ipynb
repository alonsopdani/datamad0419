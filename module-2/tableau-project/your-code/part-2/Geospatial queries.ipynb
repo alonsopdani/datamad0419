{
 "cells": [
  {
   "cell_type": "code",
   "execution_count": 1,
   "metadata": {},
   "outputs": [],
   "source": [
    "from pymongo import MongoClient\n",
    "import pandas as pd\n",
    "client = MongoClient('localhost', 27017)\n",
    "collection = client['companies'].tableauproject"
   ]
  },
  {
   "cell_type": "code",
   "execution_count": 2,
   "metadata": {},
   "outputs": [
    {
     "data": {
      "text/html": [
       "<div>\n",
       "<style scoped>\n",
       "    .dataframe tbody tr th:only-of-type {\n",
       "        vertical-align: middle;\n",
       "    }\n",
       "\n",
       "    .dataframe tbody tr th {\n",
       "        vertical-align: top;\n",
       "    }\n",
       "\n",
       "    .dataframe thead th {\n",
       "        text-align: right;\n",
       "    }\n",
       "</style>\n",
       "<table border=\"1\" class=\"dataframe\">\n",
       "  <thead>\n",
       "    <tr style=\"text-align: right;\">\n",
       "      <th></th>\n",
       "      <th>_id</th>\n",
       "      <th>category_code</th>\n",
       "      <th>city</th>\n",
       "      <th>country_code</th>\n",
       "      <th>founded_year</th>\n",
       "      <th>geopoint</th>\n",
       "      <th>latitude</th>\n",
       "      <th>longitude</th>\n",
       "      <th>name</th>\n",
       "      <th>number_of_employees</th>\n",
       "      <th>type</th>\n",
       "    </tr>\n",
       "  </thead>\n",
       "  <tbody>\n",
       "    <tr>\n",
       "      <th>0</th>\n",
       "      <td>5cd453a1e74b56f50369c6e3</td>\n",
       "      <td>web</td>\n",
       "      <td>New York</td>\n",
       "      <td>USA</td>\n",
       "      <td>2005</td>\n",
       "      <td>{'type': 'Point', 'coordinates': [-73.9964312,...</td>\n",
       "      <td>40.723731</td>\n",
       "      <td>-73.996431</td>\n",
       "      <td>Wetpaint</td>\n",
       "      <td>47</td>\n",
       "      <td>startup</td>\n",
       "    </tr>\n",
       "    <tr>\n",
       "      <th>1</th>\n",
       "      <td>5cd453a1e74b56f50369c6e4</td>\n",
       "      <td>games_video</td>\n",
       "      <td>San Francisco</td>\n",
       "      <td>USA</td>\n",
       "      <td>2006</td>\n",
       "      <td>{'type': 'Point', 'coordinates': [-122.409173,...</td>\n",
       "      <td>37.788482</td>\n",
       "      <td>-122.409173</td>\n",
       "      <td>Kyte</td>\n",
       "      <td>40</td>\n",
       "      <td>startup</td>\n",
       "    </tr>\n",
       "    <tr>\n",
       "      <th>2</th>\n",
       "      <td>5cd453a1e74b56f50369c6e5</td>\n",
       "      <td>web</td>\n",
       "      <td>Pleasanton</td>\n",
       "      <td>USA</td>\n",
       "      <td>2005</td>\n",
       "      <td>{'type': 'Point', 'coordinates': [-121.907768,...</td>\n",
       "      <td>37.697805</td>\n",
       "      <td>-121.907768</td>\n",
       "      <td>Jangl SMS</td>\n",
       "      <td>22</td>\n",
       "      <td>startup</td>\n",
       "    </tr>\n",
       "    <tr>\n",
       "      <th>3</th>\n",
       "      <td>5cd453a1e74b56f50369c6e6</td>\n",
       "      <td>games_video</td>\n",
       "      <td>Los Angeles</td>\n",
       "      <td>USA</td>\n",
       "      <td>2006</td>\n",
       "      <td>{'type': 'Point', 'coordinates': [-118.254558,...</td>\n",
       "      <td>34.051409</td>\n",
       "      <td>-118.254558</td>\n",
       "      <td>Stickam</td>\n",
       "      <td>35</td>\n",
       "      <td>startup</td>\n",
       "    </tr>\n",
       "    <tr>\n",
       "      <th>4</th>\n",
       "      <td>5cd453a1e74b56f50369c6e7</td>\n",
       "      <td>games_video</td>\n",
       "      <td>San Bruno</td>\n",
       "      <td>USA</td>\n",
       "      <td>2005</td>\n",
       "      <td>{'type': 'Point', 'coordinates': [-122.426804,...</td>\n",
       "      <td>37.627971</td>\n",
       "      <td>-122.426804</td>\n",
       "      <td>YouTube</td>\n",
       "      <td>0</td>\n",
       "      <td>startup</td>\n",
       "    </tr>\n",
       "  </tbody>\n",
       "</table>\n",
       "</div>"
      ],
      "text/plain": [
       "                        _id category_code           city country_code  \\\n",
       "0  5cd453a1e74b56f50369c6e3           web       New York          USA   \n",
       "1  5cd453a1e74b56f50369c6e4   games_video  San Francisco          USA   \n",
       "2  5cd453a1e74b56f50369c6e5           web     Pleasanton          USA   \n",
       "3  5cd453a1e74b56f50369c6e6   games_video    Los Angeles          USA   \n",
       "4  5cd453a1e74b56f50369c6e7   games_video      San Bruno          USA   \n",
       "\n",
       "   founded_year                                           geopoint   latitude  \\\n",
       "0          2005  {'type': 'Point', 'coordinates': [-73.9964312,...  40.723731   \n",
       "1          2006  {'type': 'Point', 'coordinates': [-122.409173,...  37.788482   \n",
       "2          2005  {'type': 'Point', 'coordinates': [-121.907768,...  37.697805   \n",
       "3          2006  {'type': 'Point', 'coordinates': [-118.254558,...  34.051409   \n",
       "4          2005  {'type': 'Point', 'coordinates': [-122.426804,...  37.627971   \n",
       "\n",
       "    longitude       name  number_of_employees     type  \n",
       "0  -73.996431   Wetpaint                   47  startup  \n",
       "1 -122.409173       Kyte                   40  startup  \n",
       "2 -121.907768  Jangl SMS                   22  startup  \n",
       "3 -118.254558    Stickam                   35  startup  \n",
       "4 -122.426804    YouTube                    0  startup  "
      ]
     },
     "execution_count": 2,
     "metadata": {},
     "output_type": "execute_result"
    }
   ],
   "source": [
    "# hacemos una consulta para que nos dé toda la colección y lo convertimos en df\n",
    "data = pd.DataFrame(list(collection.find()))\n",
    "data.head()"
   ]
  },
  {
   "cell_type": "code",
   "execution_count": 8,
   "metadata": {},
   "outputs": [],
   "source": [
    "# función para sacar el número de empresas que hay en un radio específico de un geopoint concreto\n",
    "def get_near_companies(geopoint, max_distance):\n",
    "    nearcomps = pd.DataFrame(list(collection.find(\n",
    "        {'geopoint': { '$near': {'$geometry': geopoint, '$maxDistance': max_distance}}}, {'name'})))\n",
    "    return len(nearcomps)"
   ]
  },
  {
   "cell_type": "code",
   "execution_count": 9,
   "metadata": {},
   "outputs": [],
   "source": [
    "# creamos columna nueva con el número de empresas cerca de cada empresa\n",
    "distances = [200, 500, 1000, 2000]\n",
    "for e in distances:\n",
    "    data['companies{}'.format(e)] = data['geopoint'].apply(lambda x: get_near_companies(x, e))"
   ]
  },
  {
   "cell_type": "code",
   "execution_count": 5,
   "metadata": {},
   "outputs": [],
   "source": [
    "# función para sacar el número de empleados que hay en un radio específico de un geopoint concreto\n",
    "def get_near_employees(geopoint, max_distance):\n",
    "    nearemps = pd.DataFrame(list(collection.find(\n",
    "        {'geopoint': { '$near': {'$geometry': geopoint, '$maxDistance': max_distance}}})))\n",
    "    return sum(nearemps['number_of_employees'])"
   ]
  },
  {
   "cell_type": "code",
   "execution_count": 6,
   "metadata": {},
   "outputs": [],
   "source": [
    "# creamos columna nueva con el número de empleados cerca de cada empresa\n",
    "for e in distances:\n",
    "    data['employees{}'.format(e)] = data['geopoint'].apply(lambda x: get_near_employees(x, e))"
   ]
  },
  {
   "cell_type": "code",
   "execution_count": null,
   "metadata": {},
   "outputs": [],
   "source": [
    "data.head()"
   ]
  },
  {
   "cell_type": "code",
   "execution_count": 13,
   "metadata": {},
   "outputs": [],
   "source": [
    "data.to_csv('final_dataset.csv')"
   ]
  },
  {
   "cell_type": "code",
   "execution_count": null,
   "metadata": {},
   "outputs": [],
   "source": [
    "# TO DO: subir el archivo a Drive desde el programa"
   ]
  }
 ],
 "metadata": {
  "kernelspec": {
   "display_name": "Python 3",
   "language": "python",
   "name": "python3"
  },
  "language_info": {
   "codemirror_mode": {
    "name": "ipython",
    "version": 3
   },
   "file_extension": ".py",
   "mimetype": "text/x-python",
   "name": "python",
   "nbconvert_exporter": "python",
   "pygments_lexer": "ipython3",
   "version": "3.6.7"
  }
 },
 "nbformat": 4,
 "nbformat_minor": 2
}
