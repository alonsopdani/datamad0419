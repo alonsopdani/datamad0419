{
 "cells": [
  {
   "cell_type": "markdown",
   "metadata": {},
   "source": [
    "# Intro to Recommender Systems Lab\n",
    "\n",
    "Complete the exercises below to solidify your knowledge and understanding of recommender systems.\n",
    "\n",
    "For this lab, we are going to be putting together a user similarity based recommender system in a step-by-step fashion. Our data set contains customer grocery purchases, and we will use similar purchase behavior to inform our recommender system. Our recommender system will generate 5 recommendations for each customer based on the purchases they have made."
   ]
  },
  {
   "cell_type": "code",
   "execution_count": 1,
   "metadata": {},
   "outputs": [],
   "source": [
    "import pandas as pd\n",
    "from scipy.spatial.distance import pdist, squareform"
   ]
  },
  {
   "cell_type": "code",
   "execution_count": 2,
   "metadata": {},
   "outputs": [],
   "source": [
    "data = pd.read_csv('../data/customer_product_sales.csv')"
   ]
  },
  {
   "cell_type": "code",
   "execution_count": 3,
   "metadata": {},
   "outputs": [],
   "source": [
    "data['SalesID'] = data['SalesID'].astype(str)\n",
    "data['ProductID'] = data['ProductID'].astype(str)"
   ]
  },
  {
   "cell_type": "code",
   "execution_count": 4,
   "metadata": {},
   "outputs": [
    {
     "data": {
      "text/html": [
       "<div>\n",
       "<style scoped>\n",
       "    .dataframe tbody tr th:only-of-type {\n",
       "        vertical-align: middle;\n",
       "    }\n",
       "\n",
       "    .dataframe tbody tr th {\n",
       "        vertical-align: top;\n",
       "    }\n",
       "\n",
       "    .dataframe thead th {\n",
       "        text-align: right;\n",
       "    }\n",
       "</style>\n",
       "<table border=\"1\" class=\"dataframe\">\n",
       "  <thead>\n",
       "    <tr style=\"text-align: right;\">\n",
       "      <th></th>\n",
       "      <th>CustomerID</th>\n",
       "      <th>FirstName</th>\n",
       "      <th>LastName</th>\n",
       "      <th>SalesID</th>\n",
       "      <th>ProductID</th>\n",
       "      <th>ProductName</th>\n",
       "      <th>Quantity</th>\n",
       "    </tr>\n",
       "  </thead>\n",
       "  <tbody>\n",
       "    <tr>\n",
       "      <th>0</th>\n",
       "      <td>61288</td>\n",
       "      <td>Rosa</td>\n",
       "      <td>Andersen</td>\n",
       "      <td>134196</td>\n",
       "      <td>229</td>\n",
       "      <td>Bread - Hot Dog Buns</td>\n",
       "      <td>16</td>\n",
       "    </tr>\n",
       "    <tr>\n",
       "      <th>1</th>\n",
       "      <td>77352</td>\n",
       "      <td>Myron</td>\n",
       "      <td>Murray</td>\n",
       "      <td>6167892</td>\n",
       "      <td>229</td>\n",
       "      <td>Bread - Hot Dog Buns</td>\n",
       "      <td>20</td>\n",
       "    </tr>\n",
       "    <tr>\n",
       "      <th>2</th>\n",
       "      <td>40094</td>\n",
       "      <td>Susan</td>\n",
       "      <td>Stevenson</td>\n",
       "      <td>5970885</td>\n",
       "      <td>229</td>\n",
       "      <td>Bread - Hot Dog Buns</td>\n",
       "      <td>11</td>\n",
       "    </tr>\n",
       "    <tr>\n",
       "      <th>3</th>\n",
       "      <td>23548</td>\n",
       "      <td>Tricia</td>\n",
       "      <td>Vincent</td>\n",
       "      <td>6426954</td>\n",
       "      <td>229</td>\n",
       "      <td>Bread - Hot Dog Buns</td>\n",
       "      <td>6</td>\n",
       "    </tr>\n",
       "    <tr>\n",
       "      <th>4</th>\n",
       "      <td>78981</td>\n",
       "      <td>Scott</td>\n",
       "      <td>Burch</td>\n",
       "      <td>819094</td>\n",
       "      <td>229</td>\n",
       "      <td>Bread - Hot Dog Buns</td>\n",
       "      <td>20</td>\n",
       "    </tr>\n",
       "  </tbody>\n",
       "</table>\n",
       "</div>"
      ],
      "text/plain": [
       "   CustomerID FirstName   LastName  SalesID ProductID           ProductName  \\\n",
       "0       61288      Rosa   Andersen   134196       229  Bread - Hot Dog Buns   \n",
       "1       77352     Myron     Murray  6167892       229  Bread - Hot Dog Buns   \n",
       "2       40094     Susan  Stevenson  5970885       229  Bread - Hot Dog Buns   \n",
       "3       23548    Tricia    Vincent  6426954       229  Bread - Hot Dog Buns   \n",
       "4       78981     Scott      Burch   819094       229  Bread - Hot Dog Buns   \n",
       "\n",
       "   Quantity  \n",
       "0        16  \n",
       "1        20  \n",
       "2        11  \n",
       "3         6  \n",
       "4        20  "
      ]
     },
     "execution_count": 4,
     "metadata": {},
     "output_type": "execute_result"
    }
   ],
   "source": [
    "data.head()"
   ]
  },
  {
   "cell_type": "markdown",
   "metadata": {},
   "source": [
    "## Step 1: Create a data frame that contains the total quantity of each product purchased by each customer.\n",
    "\n",
    "You will need to group by CustomerID and ProductName and then sum the Quantity field."
   ]
  },
  {
   "cell_type": "code",
   "execution_count": 5,
   "metadata": {},
   "outputs": [
    {
     "data": {
      "text/html": [
       "<div>\n",
       "<style scoped>\n",
       "    .dataframe tbody tr th:only-of-type {\n",
       "        vertical-align: middle;\n",
       "    }\n",
       "\n",
       "    .dataframe tbody tr th {\n",
       "        vertical-align: top;\n",
       "    }\n",
       "\n",
       "    .dataframe thead th {\n",
       "        text-align: right;\n",
       "    }\n",
       "</style>\n",
       "<table border=\"1\" class=\"dataframe\">\n",
       "  <thead>\n",
       "    <tr style=\"text-align: right;\">\n",
       "      <th></th>\n",
       "      <th></th>\n",
       "      <th>Quantity</th>\n",
       "    </tr>\n",
       "    <tr>\n",
       "      <th>CustomerID</th>\n",
       "      <th>ProductName</th>\n",
       "      <th></th>\n",
       "    </tr>\n",
       "  </thead>\n",
       "  <tbody>\n",
       "    <tr>\n",
       "      <th rowspan=\"5\" valign=\"top\">33</th>\n",
       "      <th>Apricots - Dried</th>\n",
       "      <td>1</td>\n",
       "    </tr>\n",
       "    <tr>\n",
       "      <th>Assorted Desserts</th>\n",
       "      <td>1</td>\n",
       "    </tr>\n",
       "    <tr>\n",
       "      <th>Bandage - Flexible Neon</th>\n",
       "      <td>1</td>\n",
       "    </tr>\n",
       "    <tr>\n",
       "      <th>Bar Mix - Pina Colada, 355 Ml</th>\n",
       "      <td>1</td>\n",
       "    </tr>\n",
       "    <tr>\n",
       "      <th>Beans - Kidney, Canned</th>\n",
       "      <td>1</td>\n",
       "    </tr>\n",
       "  </tbody>\n",
       "</table>\n",
       "</div>"
      ],
      "text/plain": [
       "                                          Quantity\n",
       "CustomerID ProductName                            \n",
       "33         Apricots - Dried                      1\n",
       "           Assorted Desserts                     1\n",
       "           Bandage - Flexible Neon               1\n",
       "           Bar Mix - Pina Colada, 355 Ml         1\n",
       "           Beans - Kidney, Canned                1"
      ]
     },
     "execution_count": 5,
     "metadata": {},
     "output_type": "execute_result"
    }
   ],
   "source": [
    "df = data.groupby(['CustomerID', 'ProductName']).sum()\n",
    "df.head()"
   ]
  },
  {
   "cell_type": "markdown",
   "metadata": {},
   "source": [
    "## Step 2: Use the `pivot_table` method to create a product by customer matrix.\n",
    "\n",
    "The rows of the matrix should represent the products, the columns should represent the customers, and the values should be the quantities of each product purchased by each customer. You will also need to replace nulls with zeros, which you can do using the `fillna` method."
   ]
  },
  {
   "cell_type": "code",
   "execution_count": 6,
   "metadata": {},
   "outputs": [
    {
     "data": {
      "text/html": [
       "<div>\n",
       "<style scoped>\n",
       "    .dataframe tbody tr th:only-of-type {\n",
       "        vertical-align: middle;\n",
       "    }\n",
       "\n",
       "    .dataframe tbody tr th {\n",
       "        vertical-align: top;\n",
       "    }\n",
       "\n",
       "    .dataframe thead th {\n",
       "        text-align: right;\n",
       "    }\n",
       "</style>\n",
       "<table border=\"1\" class=\"dataframe\">\n",
       "  <thead>\n",
       "    <tr style=\"text-align: right;\">\n",
       "      <th>CustomerID</th>\n",
       "      <th>33</th>\n",
       "      <th>200</th>\n",
       "      <th>264</th>\n",
       "      <th>356</th>\n",
       "      <th>412</th>\n",
       "      <th>464</th>\n",
       "      <th>477</th>\n",
       "      <th>639</th>\n",
       "      <th>649</th>\n",
       "      <th>669</th>\n",
       "      <th>...</th>\n",
       "      <th>97697</th>\n",
       "      <th>97753</th>\n",
       "      <th>97769</th>\n",
       "      <th>97793</th>\n",
       "      <th>97900</th>\n",
       "      <th>97928</th>\n",
       "      <th>98069</th>\n",
       "      <th>98159</th>\n",
       "      <th>98185</th>\n",
       "      <th>98200</th>\n",
       "    </tr>\n",
       "    <tr>\n",
       "      <th>ProductName</th>\n",
       "      <th></th>\n",
       "      <th></th>\n",
       "      <th></th>\n",
       "      <th></th>\n",
       "      <th></th>\n",
       "      <th></th>\n",
       "      <th></th>\n",
       "      <th></th>\n",
       "      <th></th>\n",
       "      <th></th>\n",
       "      <th></th>\n",
       "      <th></th>\n",
       "      <th></th>\n",
       "      <th></th>\n",
       "      <th></th>\n",
       "      <th></th>\n",
       "      <th></th>\n",
       "      <th></th>\n",
       "      <th></th>\n",
       "      <th></th>\n",
       "      <th></th>\n",
       "    </tr>\n",
       "  </thead>\n",
       "  <tbody>\n",
       "    <tr>\n",
       "      <th>Anchovy Paste - 56 G Tube</th>\n",
       "      <td>0.0</td>\n",
       "      <td>0.0</td>\n",
       "      <td>0.0</td>\n",
       "      <td>0.0</td>\n",
       "      <td>0.0</td>\n",
       "      <td>0.0</td>\n",
       "      <td>0.0</td>\n",
       "      <td>1.0</td>\n",
       "      <td>0.0</td>\n",
       "      <td>0.0</td>\n",
       "      <td>...</td>\n",
       "      <td>0.0</td>\n",
       "      <td>25.0</td>\n",
       "      <td>0.0</td>\n",
       "      <td>0.0</td>\n",
       "      <td>0.0</td>\n",
       "      <td>0.0</td>\n",
       "      <td>0.0</td>\n",
       "      <td>0.0</td>\n",
       "      <td>0.0</td>\n",
       "      <td>0.0</td>\n",
       "    </tr>\n",
       "    <tr>\n",
       "      <th>Appetizer - Mini Egg Roll, Shrimp</th>\n",
       "      <td>0.0</td>\n",
       "      <td>0.0</td>\n",
       "      <td>0.0</td>\n",
       "      <td>0.0</td>\n",
       "      <td>0.0</td>\n",
       "      <td>0.0</td>\n",
       "      <td>0.0</td>\n",
       "      <td>0.0</td>\n",
       "      <td>0.0</td>\n",
       "      <td>0.0</td>\n",
       "      <td>...</td>\n",
       "      <td>25.0</td>\n",
       "      <td>25.0</td>\n",
       "      <td>0.0</td>\n",
       "      <td>0.0</td>\n",
       "      <td>0.0</td>\n",
       "      <td>0.0</td>\n",
       "      <td>0.0</td>\n",
       "      <td>0.0</td>\n",
       "      <td>0.0</td>\n",
       "      <td>0.0</td>\n",
       "    </tr>\n",
       "    <tr>\n",
       "      <th>Appetizer - Mushroom Tart</th>\n",
       "      <td>0.0</td>\n",
       "      <td>0.0</td>\n",
       "      <td>0.0</td>\n",
       "      <td>0.0</td>\n",
       "      <td>0.0</td>\n",
       "      <td>0.0</td>\n",
       "      <td>0.0</td>\n",
       "      <td>1.0</td>\n",
       "      <td>0.0</td>\n",
       "      <td>0.0</td>\n",
       "      <td>...</td>\n",
       "      <td>25.0</td>\n",
       "      <td>0.0</td>\n",
       "      <td>0.0</td>\n",
       "      <td>0.0</td>\n",
       "      <td>0.0</td>\n",
       "      <td>0.0</td>\n",
       "      <td>0.0</td>\n",
       "      <td>0.0</td>\n",
       "      <td>25.0</td>\n",
       "      <td>0.0</td>\n",
       "    </tr>\n",
       "    <tr>\n",
       "      <th>Appetizer - Sausage Rolls</th>\n",
       "      <td>0.0</td>\n",
       "      <td>0.0</td>\n",
       "      <td>0.0</td>\n",
       "      <td>0.0</td>\n",
       "      <td>0.0</td>\n",
       "      <td>0.0</td>\n",
       "      <td>0.0</td>\n",
       "      <td>0.0</td>\n",
       "      <td>0.0</td>\n",
       "      <td>0.0</td>\n",
       "      <td>...</td>\n",
       "      <td>0.0</td>\n",
       "      <td>0.0</td>\n",
       "      <td>0.0</td>\n",
       "      <td>0.0</td>\n",
       "      <td>25.0</td>\n",
       "      <td>25.0</td>\n",
       "      <td>25.0</td>\n",
       "      <td>0.0</td>\n",
       "      <td>25.0</td>\n",
       "      <td>0.0</td>\n",
       "    </tr>\n",
       "    <tr>\n",
       "      <th>Apricots - Dried</th>\n",
       "      <td>1.0</td>\n",
       "      <td>0.0</td>\n",
       "      <td>0.0</td>\n",
       "      <td>0.0</td>\n",
       "      <td>1.0</td>\n",
       "      <td>0.0</td>\n",
       "      <td>0.0</td>\n",
       "      <td>0.0</td>\n",
       "      <td>0.0</td>\n",
       "      <td>0.0</td>\n",
       "      <td>...</td>\n",
       "      <td>0.0</td>\n",
       "      <td>25.0</td>\n",
       "      <td>0.0</td>\n",
       "      <td>0.0</td>\n",
       "      <td>0.0</td>\n",
       "      <td>0.0</td>\n",
       "      <td>0.0</td>\n",
       "      <td>0.0</td>\n",
       "      <td>0.0</td>\n",
       "      <td>0.0</td>\n",
       "    </tr>\n",
       "  </tbody>\n",
       "</table>\n",
       "<p>5 rows × 1000 columns</p>\n",
       "</div>"
      ],
      "text/plain": [
       "CustomerID                         33     200    264    356    412    464    \\\n",
       "ProductName                                                                   \n",
       "Anchovy Paste - 56 G Tube            0.0    0.0    0.0    0.0    0.0    0.0   \n",
       "Appetizer - Mini Egg Roll, Shrimp    0.0    0.0    0.0    0.0    0.0    0.0   \n",
       "Appetizer - Mushroom Tart            0.0    0.0    0.0    0.0    0.0    0.0   \n",
       "Appetizer - Sausage Rolls            0.0    0.0    0.0    0.0    0.0    0.0   \n",
       "Apricots - Dried                     1.0    0.0    0.0    0.0    1.0    0.0   \n",
       "\n",
       "CustomerID                         477    639    649    669    ...    97697  \\\n",
       "ProductName                                                    ...            \n",
       "Anchovy Paste - 56 G Tube            0.0    1.0    0.0    0.0  ...      0.0   \n",
       "Appetizer - Mini Egg Roll, Shrimp    0.0    0.0    0.0    0.0  ...     25.0   \n",
       "Appetizer - Mushroom Tart            0.0    1.0    0.0    0.0  ...     25.0   \n",
       "Appetizer - Sausage Rolls            0.0    0.0    0.0    0.0  ...      0.0   \n",
       "Apricots - Dried                     0.0    0.0    0.0    0.0  ...      0.0   \n",
       "\n",
       "CustomerID                         97753  97769  97793  97900  97928  98069  \\\n",
       "ProductName                                                                   \n",
       "Anchovy Paste - 56 G Tube           25.0    0.0    0.0    0.0    0.0    0.0   \n",
       "Appetizer - Mini Egg Roll, Shrimp   25.0    0.0    0.0    0.0    0.0    0.0   \n",
       "Appetizer - Mushroom Tart            0.0    0.0    0.0    0.0    0.0    0.0   \n",
       "Appetizer - Sausage Rolls            0.0    0.0    0.0   25.0   25.0   25.0   \n",
       "Apricots - Dried                    25.0    0.0    0.0    0.0    0.0    0.0   \n",
       "\n",
       "CustomerID                         98159  98185  98200  \n",
       "ProductName                                             \n",
       "Anchovy Paste - 56 G Tube            0.0    0.0    0.0  \n",
       "Appetizer - Mini Egg Roll, Shrimp    0.0    0.0    0.0  \n",
       "Appetizer - Mushroom Tart            0.0   25.0    0.0  \n",
       "Appetizer - Sausage Rolls            0.0   25.0    0.0  \n",
       "Apricots - Dried                     0.0    0.0    0.0  \n",
       "\n",
       "[5 rows x 1000 columns]"
      ]
     },
     "execution_count": 6,
     "metadata": {},
     "output_type": "execute_result"
    }
   ],
   "source": [
    "prod_cust = pd.pivot_table(data=df, index='ProductName', columns='CustomerID', values='Quantity', aggfunc=sum).fillna(0)\n",
    "prod_cust.head()\n",
    "prod_cust.shape"
   ]
  },
  {
   "cell_type": "markdown",
   "metadata": {},
   "source": [
    "## Step 3: Create a customer similarity matrix using `squareform` and `pdist`. For the distance metric, choose \"euclidean.\""
   ]
  },
  {
   "cell_type": "code",
   "execution_count": 7,
   "metadata": {},
   "outputs": [
    {
     "data": {
      "text/plain": [
       "array([[  0.        ,  11.91637529,  10.48808848, ..., 228.62851966,\n",
       "        239.        , 229.77380181],\n",
       "       [ 11.91637529,   0.        ,  11.74734012, ..., 228.01096465,\n",
       "        239.03765394, 229.70415756],\n",
       "       [ 10.48808848,  11.74734012,   0.        , ..., 228.08112592,\n",
       "        238.26665734, 229.77380181],\n",
       "       ...,\n",
       "       [228.62851966, 228.01096465, 228.08112592, ...,   0.        ,\n",
       "        304.13812651, 305.16389039],\n",
       "       [239.        , 239.03765394, 238.26665734, ..., 304.13812651,\n",
       "          0.        , 303.10889132],\n",
       "       [229.77380181, 229.70415756, 229.77380181, ..., 305.16389039,\n",
       "        303.10889132,   0.        ]])"
      ]
     },
     "execution_count": 7,
     "metadata": {},
     "output_type": "execute_result"
    }
   ],
   "source": [
    "cust_similarity = squareform(pdist(prod_cust.T, 'euclidean'))\n",
    "cust_similarity"
   ]
  },
  {
   "cell_type": "markdown",
   "metadata": {},
   "source": [
    "## Step 4: Check your results by generating a list of the top 5 most similar customers for a specific CustomerID."
   ]
  },
  {
   "cell_type": "code",
   "execution_count": 8,
   "metadata": {},
   "outputs": [
    {
     "data": {
      "text/plain": [
       "CustomerID\n",
       "264     0.087047\n",
       "3535    0.087047\n",
       "3317    0.087047\n",
       "2503    0.085983\n",
       "3305    0.085638\n",
       "Name: 33, dtype: float64"
      ]
     },
     "execution_count": 8,
     "metadata": {},
     "output_type": "execute_result"
    }
   ],
   "source": [
    "customer = 33\n",
    "distances = pd.DataFrame(1/(1 + cust_similarity), \n",
    "                         index=prod_cust.columns, columns=prod_cust.columns)\n",
    "\n",
    "top5 = distances[customer].sort_values(ascending=False)[1:6]\n",
    "top5"
   ]
  },
  {
   "cell_type": "markdown",
   "metadata": {},
   "source": [
    "## Step 5: From the data frame you created in Step 1, select the records for the list of similar CustomerIDs you obtained in Step 4."
   ]
  },
  {
   "cell_type": "code",
   "execution_count": 9,
   "metadata": {},
   "outputs": [],
   "source": [
    "top5_purchases = df.loc[list(top5.index)]\n",
    "# top5_purchases"
   ]
  },
  {
   "cell_type": "markdown",
   "metadata": {},
   "source": [
    "## Step 6: Aggregate those customer purchase records by ProductName, sum the Quantity field, and then rank them in descending order by quantity.\n",
    "\n",
    "This will give you the total number of each product purchased by the 5 most similar customers to the customer you selected in order from most purchased to least."
   ]
  },
  {
   "cell_type": "code",
   "execution_count": 10,
   "metadata": {},
   "outputs": [
    {
     "data": {
      "text/html": [
       "<div>\n",
       "<style scoped>\n",
       "    .dataframe tbody tr th:only-of-type {\n",
       "        vertical-align: middle;\n",
       "    }\n",
       "\n",
       "    .dataframe tbody tr th {\n",
       "        vertical-align: top;\n",
       "    }\n",
       "\n",
       "    .dataframe thead th {\n",
       "        text-align: right;\n",
       "    }\n",
       "</style>\n",
       "<table border=\"1\" class=\"dataframe\">\n",
       "  <thead>\n",
       "    <tr style=\"text-align: right;\">\n",
       "      <th></th>\n",
       "      <th>Quantity</th>\n",
       "    </tr>\n",
       "    <tr>\n",
       "      <th>ProductName</th>\n",
       "      <th></th>\n",
       "    </tr>\n",
       "  </thead>\n",
       "  <tbody>\n",
       "    <tr>\n",
       "      <th>Butter - Unsalted</th>\n",
       "      <td>3</td>\n",
       "    </tr>\n",
       "    <tr>\n",
       "      <th>Wine - Ej Gallo Sierra Valley</th>\n",
       "      <td>3</td>\n",
       "    </tr>\n",
       "    <tr>\n",
       "      <th>Towels - Paper / Kraft</th>\n",
       "      <td>3</td>\n",
       "    </tr>\n",
       "    <tr>\n",
       "      <th>Soup - Campbells Bean Medley</th>\n",
       "      <td>3</td>\n",
       "    </tr>\n",
       "    <tr>\n",
       "      <th>Wine - Blue Nun Qualitatswein</th>\n",
       "      <td>3</td>\n",
       "    </tr>\n",
       "  </tbody>\n",
       "</table>\n",
       "</div>"
      ],
      "text/plain": [
       "                               Quantity\n",
       "ProductName                            \n",
       "Butter - Unsalted                     3\n",
       "Wine - Ej Gallo Sierra Valley         3\n",
       "Towels - Paper / Kraft                3\n",
       "Soup - Campbells Bean Medley          3\n",
       "Wine - Blue Nun Qualitatswein         3"
      ]
     },
     "execution_count": 10,
     "metadata": {},
     "output_type": "execute_result"
    }
   ],
   "source": [
    "top5_products = top5_purchases.groupby('ProductName').sum().sort_values(by='Quantity', ascending=False)\n",
    "top5_products.head()"
   ]
  },
  {
   "cell_type": "markdown",
   "metadata": {},
   "source": [
    "## Step 7: Filter the list for products that the chosen customer has not yet purchased and then recommend the top 5 products with the highest quantities that are left.\n",
    "\n",
    "- Merge the ranked products data frame with the customer product matrix on the ProductName field.\n",
    "- Filter for records where the chosen customer has not purchased the product.\n",
    "- Show the top 5 results."
   ]
  },
  {
   "cell_type": "code",
   "execution_count": 11,
   "metadata": {},
   "outputs": [
    {
     "data": {
      "text/plain": [
       "['Butter - Unsalted',\n",
       " 'Wine - Ej Gallo Sierra Valley',\n",
       " 'Soup - Campbells Bean Medley',\n",
       " 'Wine - Blue Nun Qualitatswein',\n",
       " 'Chicken - Soup Base']"
      ]
     },
     "execution_count": 11,
     "metadata": {},
     "output_type": "execute_result"
    }
   ],
   "source": [
    "customer_prods = prod_cust.loc[:, customer]\n",
    "customer_prods = list(customer_prods[customer_prods!=0].index)\n",
    "# series del step 6 filtrada por productos que el customer no ha comprado nunca\n",
    "not_purchased = list(top5_products.loc[~top5_products.index.isin(customer_prods)][:5].index)\n",
    "not_purchased"
   ]
  },
  {
   "cell_type": "markdown",
   "metadata": {},
   "source": [
    "## Step 8: Now that we have generated product recommendations for a single user, put the pieces together and iterate over a list of all CustomerIDs.\n",
    "\n",
    "- Create an empty dictionary that will hold the recommendations for all customers.\n",
    "- Create a list of unique CustomerIDs to iterate over.\n",
    "- Iterate over the customer list performing steps 4 through 7 for each and appending the results of each iteration to the dictionary you created."
   ]
  },
  {
   "cell_type": "code",
   "execution_count": 52,
   "metadata": {},
   "outputs": [
    {
     "ename": "AttributeError",
     "evalue": "'dict' object has no attribute 'head'",
     "output_type": "error",
     "traceback": [
      "\u001b[0;31m---------------------------------------------------------------------------\u001b[0m",
      "\u001b[0;31mAttributeError\u001b[0m                            Traceback (most recent call last)",
      "\u001b[0;32m<ipython-input-52-c854d5544092>\u001b[0m in \u001b[0;36m<module>\u001b[0;34m\u001b[0m\n\u001b[1;32m     10\u001b[0m     \u001b[0mrecommendations\u001b[0m\u001b[0;34m[\u001b[0m\u001b[0mcustomer\u001b[0m\u001b[0;34m]\u001b[0m \u001b[0;34m=\u001b[0m \u001b[0mnot_purchased\u001b[0m\u001b[0;34m\u001b[0m\u001b[0;34m\u001b[0m\u001b[0m\n\u001b[1;32m     11\u001b[0m \u001b[0;34m\u001b[0m\u001b[0m\n\u001b[0;32m---> 12\u001b[0;31m \u001b[0mrecommendations\u001b[0m\u001b[0;34m.\u001b[0m\u001b[0mhead\u001b[0m\u001b[0;34m(\u001b[0m\u001b[0;34m)\u001b[0m\u001b[0;34m\u001b[0m\u001b[0;34m\u001b[0m\u001b[0m\n\u001b[0m",
      "\u001b[0;31mAttributeError\u001b[0m: 'dict' object has no attribute 'head'"
     ]
    }
   ],
   "source": [
    "recommendations = {}\n",
    "customers = list(set(data['CustomerID']))\n",
    "for customer in customers:\n",
    "    top5 = distances[customer].sort_values(ascending=False)[1:6]\n",
    "    top5_purchases = df.loc[list(top5.index)]\n",
    "    top5_products = top5_purchases.groupby('ProductName').sum().sort_values(by='Quantity', ascending=False)\n",
    "    customer_prods = prod_cust.loc[:, customer]\n",
    "    customer_prods = list(customer_prods[customer_prods!=0].index)\n",
    "    not_purchased = list(top5_products.loc[~top5_products.index.isin(customer_prods)][:5].index)\n",
    "    recommendations[customer] = not_purchased"
   ]
  },
  {
   "cell_type": "markdown",
   "metadata": {},
   "source": [
    "##  Step 9: Store the results in a Pandas data frame. The data frame should a column for Customer ID and then a column for each of the 5 product recommendations for each customer."
   ]
  },
  {
   "cell_type": "code",
   "execution_count": 18,
   "metadata": {
    "scrolled": true
   },
   "outputs": [
    {
     "data": {
      "text/html": [
       "<div>\n",
       "<style scoped>\n",
       "    .dataframe tbody tr th:only-of-type {\n",
       "        vertical-align: middle;\n",
       "    }\n",
       "\n",
       "    .dataframe tbody tr th {\n",
       "        vertical-align: top;\n",
       "    }\n",
       "\n",
       "    .dataframe thead th {\n",
       "        text-align: right;\n",
       "    }\n",
       "</style>\n",
       "<table border=\"1\" class=\"dataframe\">\n",
       "  <thead>\n",
       "    <tr style=\"text-align: right;\">\n",
       "      <th></th>\n",
       "      <th>CustomerID</th>\n",
       "      <th>0</th>\n",
       "      <th>1</th>\n",
       "      <th>2</th>\n",
       "      <th>3</th>\n",
       "      <th>4</th>\n",
       "    </tr>\n",
       "  </thead>\n",
       "  <tbody>\n",
       "    <tr>\n",
       "      <th>0</th>\n",
       "      <td>33</td>\n",
       "      <td>Butter - Unsalted</td>\n",
       "      <td>Wine - Ej Gallo Sierra Valley</td>\n",
       "      <td>Soup - Campbells Bean Medley</td>\n",
       "      <td>Wine - Blue Nun Qualitatswein</td>\n",
       "      <td>Chicken - Soup Base</td>\n",
       "    </tr>\n",
       "    <tr>\n",
       "      <th>1</th>\n",
       "      <td>200</td>\n",
       "      <td>Soup - Campbells Bean Medley</td>\n",
       "      <td>Muffin - Carrot Individual Wrap</td>\n",
       "      <td>Bay Leaf</td>\n",
       "      <td>Pork - Kidney</td>\n",
       "      <td>Wanton Wrap</td>\n",
       "    </tr>\n",
       "    <tr>\n",
       "      <th>2</th>\n",
       "      <td>264</td>\n",
       "      <td>Soupfoamcont12oz 112con</td>\n",
       "      <td>Wine - Two Oceans Cabernet</td>\n",
       "      <td>Bread - Italian Roll With Herbs</td>\n",
       "      <td>Veal - Inside, Choice</td>\n",
       "      <td>Fish - Scallops, Cold Smoked</td>\n",
       "    </tr>\n",
       "    <tr>\n",
       "      <th>3</th>\n",
       "      <td>356</td>\n",
       "      <td>Veal - Inside, Choice</td>\n",
       "      <td>Lamb - Ground</td>\n",
       "      <td>Pomello</td>\n",
       "      <td>Butter - Unsalted</td>\n",
       "      <td>Tart Shells - Sweet, 4</td>\n",
       "    </tr>\n",
       "    <tr>\n",
       "      <th>4</th>\n",
       "      <td>412</td>\n",
       "      <td>Olive - Spread Tapenade</td>\n",
       "      <td>Sprouts - Baby Pea Tendrils</td>\n",
       "      <td>Wine - Blue Nun Qualitatswein</td>\n",
       "      <td>Pepper - Black, Whole</td>\n",
       "      <td>Soup - Campbells Bean Medley</td>\n",
       "    </tr>\n",
       "  </tbody>\n",
       "</table>\n",
       "</div>"
      ],
      "text/plain": [
       "   CustomerID                             0                                1  \\\n",
       "0          33             Butter - Unsalted    Wine - Ej Gallo Sierra Valley   \n",
       "1         200  Soup - Campbells Bean Medley  Muffin - Carrot Individual Wrap   \n",
       "2         264       Soupfoamcont12oz 112con       Wine - Two Oceans Cabernet   \n",
       "3         356         Veal - Inside, Choice                    Lamb - Ground   \n",
       "4         412       Olive - Spread Tapenade      Sprouts - Baby Pea Tendrils   \n",
       "\n",
       "                                 2                              3  \\\n",
       "0     Soup - Campbells Bean Medley  Wine - Blue Nun Qualitatswein   \n",
       "1                         Bay Leaf                  Pork - Kidney   \n",
       "2  Bread - Italian Roll With Herbs          Veal - Inside, Choice   \n",
       "3                          Pomello              Butter - Unsalted   \n",
       "4    Wine - Blue Nun Qualitatswein          Pepper - Black, Whole   \n",
       "\n",
       "                              4  \n",
       "0           Chicken - Soup Base  \n",
       "1                   Wanton Wrap  \n",
       "2  Fish - Scallops, Cold Smoked  \n",
       "3        Tart Shells - Sweet, 4  \n",
       "4  Soup - Campbells Bean Medley  "
      ]
     },
     "execution_count": 18,
     "metadata": {},
     "output_type": "execute_result"
    }
   ],
   "source": [
    "dfrecommendations = pd.DataFrame(recommendations).T.reset_index()\n",
    "cols = ['CustomerID', '0', '1', '2', '3', '4']\n",
    "dfrecommendations.columns = cols\n",
    "dfrecommendations.head()"
   ]
  },
  {
   "cell_type": "markdown",
   "metadata": {},
   "source": [
    "## Step 10: Change the distance metric used in Step 3 to something other than euclidean (correlation, cityblock, consine, jaccard, etc.). Regenerate the recommendations for all customers and note the differences."
   ]
  },
  {
   "cell_type": "code",
   "execution_count": 44,
   "metadata": {},
   "outputs": [],
   "source": [
    "def recommendations(data, distance_type):\n",
    "    recommendations = {}\n",
    "    data['SalesID'] = data['SalesID'].astype(str)\n",
    "    data['ProductID'] = data['ProductID'].astype(str)\n",
    "    df = data.groupby(['CustomerID', 'ProductName']).sum()\n",
    "    prod_cust = pd.pivot_table(data=df, index='ProductName', columns='CustomerID', values='Quantity', aggfunc=sum).fillna(0)\n",
    "    cust_similarity = squareform(pdist(prod_cust.T, distance_type))\n",
    "    distances = pd.DataFrame(1/(1 + cust_similarity), index=prod_cust.columns, columns=prod_cust.columns)\n",
    "    customers = list(set(data['CustomerID']))\n",
    "    for customer in customers:\n",
    "        top5 = distances[customer].sort_values(ascending=False)[1:6]\n",
    "        top5_purchases = df.loc[list(top5.index)]\n",
    "        top5_products = top5_purchases.groupby('ProductName').sum().sort_values(by='Quantity', ascending=False)\n",
    "        customer_prods = prod_cust.loc[:, customer]\n",
    "        customer_prods = list(customer_prods[customer_prods!=0].index)\n",
    "        not_purchased = list(top5_products.loc[~top5_products.index.isin(customer_prods)][:5].index)\n",
    "        recommendations[customer] = not_purchased\n",
    "    dfrecommendations = pd.DataFrame(recommendations).T.reset_index()\n",
    "    return dfrecommendations"
   ]
  },
  {
   "cell_type": "code",
   "execution_count": 51,
   "metadata": {},
   "outputs": [
    {
     "name": "stdout",
     "output_type": "stream",
     "text": [
      "euclidean\n"
     ]
    },
    {
     "data": {
      "text/html": [
       "<div>\n",
       "<style scoped>\n",
       "    .dataframe tbody tr th:only-of-type {\n",
       "        vertical-align: middle;\n",
       "    }\n",
       "\n",
       "    .dataframe tbody tr th {\n",
       "        vertical-align: top;\n",
       "    }\n",
       "\n",
       "    .dataframe thead th {\n",
       "        text-align: right;\n",
       "    }\n",
       "</style>\n",
       "<table border=\"1\" class=\"dataframe\">\n",
       "  <thead>\n",
       "    <tr style=\"text-align: right;\">\n",
       "      <th></th>\n",
       "      <th>index</th>\n",
       "      <th>0</th>\n",
       "      <th>1</th>\n",
       "      <th>2</th>\n",
       "      <th>3</th>\n",
       "      <th>4</th>\n",
       "    </tr>\n",
       "  </thead>\n",
       "  <tbody>\n",
       "    <tr>\n",
       "      <th>0</th>\n",
       "      <td>33</td>\n",
       "      <td>Butter - Unsalted</td>\n",
       "      <td>Wine - Ej Gallo Sierra Valley</td>\n",
       "      <td>Soup - Campbells Bean Medley</td>\n",
       "      <td>Wine - Blue Nun Qualitatswein</td>\n",
       "      <td>Chicken - Soup Base</td>\n",
       "    </tr>\n",
       "  </tbody>\n",
       "</table>\n",
       "</div>"
      ],
      "text/plain": [
       "   index                  0                              1  \\\n",
       "0     33  Butter - Unsalted  Wine - Ej Gallo Sierra Valley   \n",
       "\n",
       "                              2                              3  \\\n",
       "0  Soup - Campbells Bean Medley  Wine - Blue Nun Qualitatswein   \n",
       "\n",
       "                     4  \n",
       "0  Chicken - Soup Base  "
      ]
     },
     "metadata": {},
     "output_type": "display_data"
    },
    {
     "name": "stdout",
     "output_type": "stream",
     "text": [
      "correlation\n"
     ]
    },
    {
     "data": {
      "text/html": [
       "<div>\n",
       "<style scoped>\n",
       "    .dataframe tbody tr th:only-of-type {\n",
       "        vertical-align: middle;\n",
       "    }\n",
       "\n",
       "    .dataframe tbody tr th {\n",
       "        vertical-align: top;\n",
       "    }\n",
       "\n",
       "    .dataframe thead th {\n",
       "        text-align: right;\n",
       "    }\n",
       "</style>\n",
       "<table border=\"1\" class=\"dataframe\">\n",
       "  <thead>\n",
       "    <tr style=\"text-align: right;\">\n",
       "      <th></th>\n",
       "      <th>index</th>\n",
       "      <th>0</th>\n",
       "      <th>1</th>\n",
       "      <th>2</th>\n",
       "      <th>3</th>\n",
       "      <th>4</th>\n",
       "    </tr>\n",
       "  </thead>\n",
       "  <tbody>\n",
       "    <tr>\n",
       "      <th>0</th>\n",
       "      <td>33</td>\n",
       "      <td>Knife Plastic - White</td>\n",
       "      <td>Muffin - Zero Transfat</td>\n",
       "      <td>Banana Turning</td>\n",
       "      <td>Crush - Cream Soda</td>\n",
       "      <td>Veal - Osso Bucco</td>\n",
       "    </tr>\n",
       "  </tbody>\n",
       "</table>\n",
       "</div>"
      ],
      "text/plain": [
       "   index                      0                       1               2  \\\n",
       "0     33  Knife Plastic - White  Muffin - Zero Transfat  Banana Turning   \n",
       "\n",
       "                    3                  4  \n",
       "0  Crush - Cream Soda  Veal - Osso Bucco  "
      ]
     },
     "metadata": {},
     "output_type": "display_data"
    },
    {
     "name": "stdout",
     "output_type": "stream",
     "text": [
      "cityblock\n"
     ]
    },
    {
     "data": {
      "text/html": [
       "<div>\n",
       "<style scoped>\n",
       "    .dataframe tbody tr th:only-of-type {\n",
       "        vertical-align: middle;\n",
       "    }\n",
       "\n",
       "    .dataframe tbody tr th {\n",
       "        vertical-align: top;\n",
       "    }\n",
       "\n",
       "    .dataframe thead th {\n",
       "        text-align: right;\n",
       "    }\n",
       "</style>\n",
       "<table border=\"1\" class=\"dataframe\">\n",
       "  <thead>\n",
       "    <tr style=\"text-align: right;\">\n",
       "      <th></th>\n",
       "      <th>index</th>\n",
       "      <th>0</th>\n",
       "      <th>1</th>\n",
       "      <th>2</th>\n",
       "      <th>3</th>\n",
       "      <th>4</th>\n",
       "    </tr>\n",
       "  </thead>\n",
       "  <tbody>\n",
       "    <tr>\n",
       "      <th>0</th>\n",
       "      <td>33</td>\n",
       "      <td>Chocolate - Dark</td>\n",
       "      <td>Wine - Charddonnay Errazuriz</td>\n",
       "      <td>Bay Leaf</td>\n",
       "      <td>Oranges - Navel, 72</td>\n",
       "      <td>Wine - Ej Gallo Sierra Valley</td>\n",
       "    </tr>\n",
       "  </tbody>\n",
       "</table>\n",
       "</div>"
      ],
      "text/plain": [
       "   index                 0                             1         2  \\\n",
       "0     33  Chocolate - Dark  Wine - Charddonnay Errazuriz  Bay Leaf   \n",
       "\n",
       "                     3                              4  \n",
       "0  Oranges - Navel, 72  Wine - Ej Gallo Sierra Valley  "
      ]
     },
     "metadata": {},
     "output_type": "display_data"
    },
    {
     "name": "stdout",
     "output_type": "stream",
     "text": [
      "cosine\n"
     ]
    },
    {
     "data": {
      "text/html": [
       "<div>\n",
       "<style scoped>\n",
       "    .dataframe tbody tr th:only-of-type {\n",
       "        vertical-align: middle;\n",
       "    }\n",
       "\n",
       "    .dataframe tbody tr th {\n",
       "        vertical-align: top;\n",
       "    }\n",
       "\n",
       "    .dataframe thead th {\n",
       "        text-align: right;\n",
       "    }\n",
       "</style>\n",
       "<table border=\"1\" class=\"dataframe\">\n",
       "  <thead>\n",
       "    <tr style=\"text-align: right;\">\n",
       "      <th></th>\n",
       "      <th>index</th>\n",
       "      <th>0</th>\n",
       "      <th>1</th>\n",
       "      <th>2</th>\n",
       "      <th>3</th>\n",
       "      <th>4</th>\n",
       "    </tr>\n",
       "  </thead>\n",
       "  <tbody>\n",
       "    <tr>\n",
       "      <th>0</th>\n",
       "      <td>33</td>\n",
       "      <td>Knife Plastic - White</td>\n",
       "      <td>Soup - Campbells, Beef Barley</td>\n",
       "      <td>Onions - Cippolini</td>\n",
       "      <td>Tea - Herbal Sweet Dreams</td>\n",
       "      <td>Muffin - Zero Transfat</td>\n",
       "    </tr>\n",
       "  </tbody>\n",
       "</table>\n",
       "</div>"
      ],
      "text/plain": [
       "   index                      0                              1  \\\n",
       "0     33  Knife Plastic - White  Soup - Campbells, Beef Barley   \n",
       "\n",
       "                    2                          3                       4  \n",
       "0  Onions - Cippolini  Tea - Herbal Sweet Dreams  Muffin - Zero Transfat  "
      ]
     },
     "metadata": {},
     "output_type": "display_data"
    },
    {
     "name": "stdout",
     "output_type": "stream",
     "text": [
      "jaccard\n"
     ]
    },
    {
     "data": {
      "text/html": [
       "<div>\n",
       "<style scoped>\n",
       "    .dataframe tbody tr th:only-of-type {\n",
       "        vertical-align: middle;\n",
       "    }\n",
       "\n",
       "    .dataframe tbody tr th {\n",
       "        vertical-align: top;\n",
       "    }\n",
       "\n",
       "    .dataframe thead th {\n",
       "        text-align: right;\n",
       "    }\n",
       "</style>\n",
       "<table border=\"1\" class=\"dataframe\">\n",
       "  <thead>\n",
       "    <tr style=\"text-align: right;\">\n",
       "      <th></th>\n",
       "      <th>index</th>\n",
       "      <th>0</th>\n",
       "      <th>1</th>\n",
       "      <th>2</th>\n",
       "      <th>3</th>\n",
       "      <th>4</th>\n",
       "    </tr>\n",
       "  </thead>\n",
       "  <tbody>\n",
       "    <tr>\n",
       "      <th>0</th>\n",
       "      <td>33</td>\n",
       "      <td>Loquat</td>\n",
       "      <td>Milk - 2%</td>\n",
       "      <td>Muffin Mix - Blueberry</td>\n",
       "      <td>Blueberries</td>\n",
       "      <td>Cheese - Brie, Triple Creme</td>\n",
       "    </tr>\n",
       "  </tbody>\n",
       "</table>\n",
       "</div>"
      ],
      "text/plain": [
       "   index       0          1                       2            3  \\\n",
       "0     33  Loquat  Milk - 2%  Muffin Mix - Blueberry  Blueberries   \n",
       "\n",
       "                             4  \n",
       "0  Cheese - Brie, Triple Creme  "
      ]
     },
     "metadata": {},
     "output_type": "display_data"
    }
   ],
   "source": [
    "distance_types = ['euclidean', 'correlation', 'cityblock', 'cosine', 'jaccard']\n",
    "for distancetype in distance_types:\n",
    "    print(distancetype)\n",
    "    display(recommendations(data, distancetype)[:1])"
   ]
  },
  {
   "cell_type": "code",
   "execution_count": null,
   "metadata": {},
   "outputs": [],
   "source": []
  }
 ],
 "metadata": {
  "kernelspec": {
   "display_name": "Python 3",
   "language": "python",
   "name": "python3"
  },
  "language_info": {
   "codemirror_mode": {
    "name": "ipython",
    "version": 3
   },
   "file_extension": ".py",
   "mimetype": "text/x-python",
   "name": "python",
   "nbconvert_exporter": "python",
   "pygments_lexer": "ipython3",
   "version": "3.6.7"
  }
 },
 "nbformat": 4,
 "nbformat_minor": 2
}
