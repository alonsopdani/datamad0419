{
 "cells": [
  {
   "cell_type": "code",
   "execution_count": 2,
   "metadata": {},
   "outputs": [
    {
     "name": "stdout",
     "output_type": "stream",
     "text": [
      "[]\n"
     ]
    }
   ],
   "source": [
    "import json\n",
    "import requests\n",
    "\n",
    "a = open(\".env\", \"r\").read()\n",
    "b = requests.get(\"https://api.github.com/repos/ironhack-datalabs/datamad0419/commits?since=2019-4-01T00:00:00Z&client_id=alonsopdani&client_secret={}\".format(a))\n",
    "res_commits = b.json()\n",
    "print(res_commits)"
   ]
  },
  {
   "cell_type": "code",
   "execution_count": 3,
   "metadata": {},
   "outputs": [
    {
     "name": "stdout",
     "output_type": "stream",
     "text": [
      "[]\n"
     ]
    }
   ],
   "source": [
    "# otra manera\n",
    "# commits = [a[d] for d in a for a in x[c] for c in res_commits[x] for x in res_commits if d == 'date' and a == 'author' and x == 'commit']\n",
    "\n",
    "commits = []\n",
    "for num in res_commits:\n",
    "    for num[c] in num:\n",
    "        for c[a] in c:\n",
    "                commits.append(a[d])\n",
    "            \n",
    "print(commits)"
   ]
  },
  {
   "cell_type": "code",
   "execution_count": null,
   "metadata": {},
   "outputs": [],
   "source": [
    "# Challenge 3"
   ]
  },
  {
   "cell_type": "code",
   "execution_count": 44,
   "metadata": {},
   "outputs": [],
   "source": []
  }
 ],
 "metadata": {
  "kernelspec": {
   "display_name": "Python 3",
   "language": "python",
   "name": "python3"
  },
  "language_info": {
   "codemirror_mode": {
    "name": "ipython",
    "version": 3
   },
   "file_extension": ".py",
   "mimetype": "text/x-python",
   "name": "python",
   "nbconvert_exporter": "python",
   "pygments_lexer": "ipython3",
   "version": "3.6.7"
  }
 },
 "nbformat": 4,
 "nbformat_minor": 2
}
