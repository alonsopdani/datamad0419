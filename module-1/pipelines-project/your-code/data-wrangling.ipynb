{
 "cells": [
  {
   "cell_type": "code",
   "execution_count": 55,
   "metadata": {},
   "outputs": [],
   "source": [
    "import pandas as pd\n",
    "import numpy as np\n",
    "import requests\n",
    "import unicodedata\n",
    "import matplotlib.pyplot as plt"
   ]
  },
  {
   "cell_type": "code",
   "execution_count": 7,
   "metadata": {},
   "outputs": [],
   "source": [
    "data = pd.read_csv('earthquake.csv')"
   ]
  },
  {
   "cell_type": "code",
   "execution_count": 8,
   "metadata": {},
   "outputs": [
    {
     "data": {
      "text/plain": [
       "(24007, 17)"
      ]
     },
     "execution_count": 8,
     "metadata": {},
     "output_type": "execute_result"
    }
   ],
   "source": [
    "data.shape"
   ]
  },
  {
   "cell_type": "code",
   "execution_count": 9,
   "metadata": {},
   "outputs": [],
   "source": [
    "data = pd.read_csv('earthquake.csv')"
   ]
  },
  {
   "cell_type": "code",
   "execution_count": 10,
   "metadata": {
    "scrolled": true
   },
   "outputs": [
    {
     "data": {
      "text/html": [
       "<div>\n",
       "<style scoped>\n",
       "    .dataframe tbody tr th:only-of-type {\n",
       "        vertical-align: middle;\n",
       "    }\n",
       "\n",
       "    .dataframe tbody tr th {\n",
       "        vertical-align: top;\n",
       "    }\n",
       "\n",
       "    .dataframe thead th {\n",
       "        text-align: right;\n",
       "    }\n",
       "</style>\n",
       "<table border=\"1\" class=\"dataframe\">\n",
       "  <thead>\n",
       "    <tr style=\"text-align: right;\">\n",
       "      <th></th>\n",
       "      <th>id</th>\n",
       "      <th>date</th>\n",
       "      <th>time</th>\n",
       "      <th>lat</th>\n",
       "      <th>long</th>\n",
       "      <th>country</th>\n",
       "      <th>city</th>\n",
       "      <th>area</th>\n",
       "      <th>direction</th>\n",
       "      <th>dist</th>\n",
       "      <th>depth</th>\n",
       "      <th>xm</th>\n",
       "      <th>md</th>\n",
       "      <th>richter</th>\n",
       "      <th>mw</th>\n",
       "      <th>ms</th>\n",
       "      <th>mb</th>\n",
       "      <th>year</th>\n",
       "    </tr>\n",
       "  </thead>\n",
       "  <tbody>\n",
       "    <tr>\n",
       "      <th>0</th>\n",
       "      <td>2.000000e+13</td>\n",
       "      <td>2003.05.20</td>\n",
       "      <td>12:17:44 AM</td>\n",
       "      <td>39.04</td>\n",
       "      <td>40.38</td>\n",
       "      <td>turkey</td>\n",
       "      <td>bingol</td>\n",
       "      <td>baliklicay</td>\n",
       "      <td>west</td>\n",
       "      <td>0.1</td>\n",
       "      <td>10.0</td>\n",
       "      <td>4.1</td>\n",
       "      <td>4.1</td>\n",
       "      <td>0.0</td>\n",
       "      <td>NaN</td>\n",
       "      <td>0.0</td>\n",
       "      <td>0.0</td>\n",
       "      <td>2003</td>\n",
       "    </tr>\n",
       "    <tr>\n",
       "      <th>1</th>\n",
       "      <td>2.010000e+13</td>\n",
       "      <td>2007.08.01</td>\n",
       "      <td>12:03:08 AM</td>\n",
       "      <td>40.79</td>\n",
       "      <td>30.09</td>\n",
       "      <td>turkey</td>\n",
       "      <td>kocaeli</td>\n",
       "      <td>bayraktar_izmit</td>\n",
       "      <td>west</td>\n",
       "      <td>0.1</td>\n",
       "      <td>5.2</td>\n",
       "      <td>4.0</td>\n",
       "      <td>3.8</td>\n",
       "      <td>4.0</td>\n",
       "      <td>NaN</td>\n",
       "      <td>0.0</td>\n",
       "      <td>0.0</td>\n",
       "      <td>2007</td>\n",
       "    </tr>\n",
       "    <tr>\n",
       "      <th>2</th>\n",
       "      <td>1.980000e+13</td>\n",
       "      <td>1978.05.07</td>\n",
       "      <td>12:41:37 AM</td>\n",
       "      <td>38.58</td>\n",
       "      <td>27.61</td>\n",
       "      <td>turkey</td>\n",
       "      <td>manisa</td>\n",
       "      <td>hamzabeyli</td>\n",
       "      <td>south_west</td>\n",
       "      <td>0.1</td>\n",
       "      <td>0.0</td>\n",
       "      <td>3.7</td>\n",
       "      <td>0.0</td>\n",
       "      <td>0.0</td>\n",
       "      <td>NaN</td>\n",
       "      <td>0.0</td>\n",
       "      <td>3.7</td>\n",
       "      <td>1978</td>\n",
       "    </tr>\n",
       "    <tr>\n",
       "      <th>3</th>\n",
       "      <td>2.000000e+13</td>\n",
       "      <td>1997.03.22</td>\n",
       "      <td>12:31:45 AM</td>\n",
       "      <td>39.47</td>\n",
       "      <td>36.44</td>\n",
       "      <td>turkey</td>\n",
       "      <td>sivas</td>\n",
       "      <td>kahvepinar_sarkisla</td>\n",
       "      <td>south_west</td>\n",
       "      <td>0.1</td>\n",
       "      <td>10.0</td>\n",
       "      <td>3.5</td>\n",
       "      <td>3.5</td>\n",
       "      <td>0.0</td>\n",
       "      <td>NaN</td>\n",
       "      <td>0.0</td>\n",
       "      <td>0.0</td>\n",
       "      <td>1997</td>\n",
       "    </tr>\n",
       "    <tr>\n",
       "      <th>4</th>\n",
       "      <td>2.000000e+13</td>\n",
       "      <td>2000.04.02</td>\n",
       "      <td>12:57:38 AM</td>\n",
       "      <td>40.80</td>\n",
       "      <td>30.24</td>\n",
       "      <td>turkey</td>\n",
       "      <td>sakarya</td>\n",
       "      <td>meseli_serdivan</td>\n",
       "      <td>south_west</td>\n",
       "      <td>0.1</td>\n",
       "      <td>7.0</td>\n",
       "      <td>4.3</td>\n",
       "      <td>4.3</td>\n",
       "      <td>0.0</td>\n",
       "      <td>NaN</td>\n",
       "      <td>0.0</td>\n",
       "      <td>0.0</td>\n",
       "      <td>2000</td>\n",
       "    </tr>\n",
       "  </tbody>\n",
       "</table>\n",
       "</div>"
      ],
      "text/plain": [
       "             id        date         time    lat   long country     city  \\\n",
       "0  2.000000e+13  2003.05.20  12:17:44 AM  39.04  40.38  turkey   bingol   \n",
       "1  2.010000e+13  2007.08.01  12:03:08 AM  40.79  30.09  turkey  kocaeli   \n",
       "2  1.980000e+13  1978.05.07  12:41:37 AM  38.58  27.61  turkey   manisa   \n",
       "3  2.000000e+13  1997.03.22  12:31:45 AM  39.47  36.44  turkey    sivas   \n",
       "4  2.000000e+13  2000.04.02  12:57:38 AM  40.80  30.24  turkey  sakarya   \n",
       "\n",
       "                  area   direction  dist  depth   xm   md  richter  mw   ms  \\\n",
       "0           baliklicay        west   0.1   10.0  4.1  4.1      0.0 NaN  0.0   \n",
       "1      bayraktar_izmit        west   0.1    5.2  4.0  3.8      4.0 NaN  0.0   \n",
       "2           hamzabeyli  south_west   0.1    0.0  3.7  0.0      0.0 NaN  0.0   \n",
       "3  kahvepinar_sarkisla  south_west   0.1   10.0  3.5  3.5      0.0 NaN  0.0   \n",
       "4      meseli_serdivan  south_west   0.1    7.0  4.3  4.3      0.0 NaN  0.0   \n",
       "\n",
       "    mb  year  \n",
       "0  0.0  2003  \n",
       "1  0.0  2007  \n",
       "2  3.7  1978  \n",
       "3  0.0  1997  \n",
       "4  0.0  2000  "
      ]
     },
     "execution_count": 10,
     "metadata": {},
     "output_type": "execute_result"
    }
   ],
   "source": [
    "# función para sacar el año de la fecha\n",
    "def get_year(date):\n",
    "    return(int(date[:4]))\n",
    "\n",
    "data['year'] = data['date'].map(get_year)\n",
    "data.head()"
   ]
  },
  {
   "cell_type": "code",
   "execution_count": 11,
   "metadata": {},
   "outputs": [
    {
     "data": {
      "text/plain": [
       "(6213, 9)"
      ]
     },
     "execution_count": 11,
     "metadata": {},
     "output_type": "execute_result"
    }
   ],
   "source": [
    "# eliminamos registros anteriores a 1964\n",
    "# eliminamos registros de terremotos con índice 0 en la Escala de Richter\n",
    "data = data.query('year >= 2004 & richter != 0')\n",
    "# nos quedamos con las columnas que nos interesan\n",
    "data = data[['id', 'date', 'time', 'lat', 'long', 'city', 'area', 'richter', 'year']]\n",
    "data.shape"
   ]
  },
  {
   "cell_type": "code",
   "execution_count": 12,
   "metadata": {},
   "outputs": [
    {
     "data": {
      "text/plain": [
       "id            0\n",
       "date          0\n",
       "time          0\n",
       "lat           0\n",
       "long          0\n",
       "city       2947\n",
       "area       2358\n",
       "richter       0\n",
       "year          0\n",
       "dtype: int64"
      ]
     },
     "execution_count": 12,
     "metadata": {},
     "output_type": "execute_result"
    }
   ],
   "source": [
    "null_cols = data.isnull().sum()\n",
    "null_cols"
   ]
  },
  {
   "cell_type": "code",
   "execution_count": 13,
   "metadata": {},
   "outputs": [],
   "source": [
    "def get_city(location):\n",
    "    key = open(\".env\", \"r\").read()\n",
    "    response = requests.get(\"https://geocodeapi.p.rapidapi.com/GetNearestCities?latitude={}&longitude={}&range=0\".format(location[0], location[1]),\n",
    "        headers={\n",
    "        \"X-RapidAPI-Host\": \"geocodeapi.p.rapidapi.com\",\n",
    "        \"X-RapidAPI-Key\": key\n",
    "        }\n",
    "    )\n",
    "    res = response.json()\n",
    "    return unicodedata.normalize('NFKD',res[0]['City']).encode('ASCII', 'ignore').decode('utf-8').lower()"
   ]
  },
  {
   "cell_type": "code",
   "execution_count": 14,
   "metadata": {},
   "outputs": [
    {
     "data": {
      "text/plain": [
       "'takoradi'"
      ]
     },
     "execution_count": 14,
     "metadata": {},
     "output_type": "execute_result"
    }
   ],
   "source": [
    "get_city((0,0))"
   ]
  },
  {
   "cell_type": "code",
   "execution_count": 15,
   "metadata": {},
   "outputs": [
    {
     "data": {
      "text/html": [
       "<div>\n",
       "<style scoped>\n",
       "    .dataframe tbody tr th:only-of-type {\n",
       "        vertical-align: middle;\n",
       "    }\n",
       "\n",
       "    .dataframe tbody tr th {\n",
       "        vertical-align: top;\n",
       "    }\n",
       "\n",
       "    .dataframe thead th {\n",
       "        text-align: right;\n",
       "    }\n",
       "</style>\n",
       "<table border=\"1\" class=\"dataframe\">\n",
       "  <thead>\n",
       "    <tr style=\"text-align: right;\">\n",
       "      <th></th>\n",
       "      <th>id</th>\n",
       "      <th>date</th>\n",
       "      <th>time</th>\n",
       "      <th>lat</th>\n",
       "      <th>long</th>\n",
       "      <th>city</th>\n",
       "      <th>area</th>\n",
       "      <th>richter</th>\n",
       "      <th>year</th>\n",
       "      <th>coords</th>\n",
       "    </tr>\n",
       "  </thead>\n",
       "  <tbody>\n",
       "    <tr>\n",
       "      <th>1</th>\n",
       "      <td>2.010000e+13</td>\n",
       "      <td>2007.08.01</td>\n",
       "      <td>12:03:08 AM</td>\n",
       "      <td>40.79</td>\n",
       "      <td>30.09</td>\n",
       "      <td>kocaeli</td>\n",
       "      <td>bayraktar_izmit</td>\n",
       "      <td>4.0</td>\n",
       "      <td>2007</td>\n",
       "      <td>(40.79, 30.09)</td>\n",
       "    </tr>\n",
       "    <tr>\n",
       "      <th>6</th>\n",
       "      <td>2.010000e+13</td>\n",
       "      <td>2012.06.24</td>\n",
       "      <td>12:07:22 AM</td>\n",
       "      <td>38.75</td>\n",
       "      <td>43.61</td>\n",
       "      <td>van</td>\n",
       "      <td>ilikaynak</td>\n",
       "      <td>4.5</td>\n",
       "      <td>2012</td>\n",
       "      <td>(38.75, 43.61)</td>\n",
       "    </tr>\n",
       "    <tr>\n",
       "      <th>9</th>\n",
       "      <td>2.010000e+13</td>\n",
       "      <td>2011.10.28</td>\n",
       "      <td>12:47:56 AM</td>\n",
       "      <td>38.76</td>\n",
       "      <td>43.54</td>\n",
       "      <td>van</td>\n",
       "      <td>degirmenozu</td>\n",
       "      <td>4.2</td>\n",
       "      <td>2011</td>\n",
       "      <td>(38.76, 43.54)</td>\n",
       "    </tr>\n",
       "    <tr>\n",
       "      <th>10</th>\n",
       "      <td>2.010000e+13</td>\n",
       "      <td>2013.05.01</td>\n",
       "      <td>12:47:56 AM</td>\n",
       "      <td>37.31</td>\n",
       "      <td>37.11</td>\n",
       "      <td>kahramanmaras</td>\n",
       "      <td>ordekdede_pazarcik</td>\n",
       "      <td>3.5</td>\n",
       "      <td>2013</td>\n",
       "      <td>(37.31, 37.11)</td>\n",
       "    </tr>\n",
       "    <tr>\n",
       "      <th>15</th>\n",
       "      <td>2.010000e+13</td>\n",
       "      <td>2011.05.22</td>\n",
       "      <td>12:49:49 AM</td>\n",
       "      <td>39.13</td>\n",
       "      <td>29.04</td>\n",
       "      <td>kutahya</td>\n",
       "      <td>kapikaya_simav</td>\n",
       "      <td>3.9</td>\n",
       "      <td>2011</td>\n",
       "      <td>(39.13, 29.04)</td>\n",
       "    </tr>\n",
       "  </tbody>\n",
       "</table>\n",
       "</div>"
      ],
      "text/plain": [
       "              id        date         time    lat   long           city  \\\n",
       "1   2.010000e+13  2007.08.01  12:03:08 AM  40.79  30.09        kocaeli   \n",
       "6   2.010000e+13  2012.06.24  12:07:22 AM  38.75  43.61            van   \n",
       "9   2.010000e+13  2011.10.28  12:47:56 AM  38.76  43.54            van   \n",
       "10  2.010000e+13  2013.05.01  12:47:56 AM  37.31  37.11  kahramanmaras   \n",
       "15  2.010000e+13  2011.05.22  12:49:49 AM  39.13  29.04        kutahya   \n",
       "\n",
       "                  area  richter  year          coords  \n",
       "1      bayraktar_izmit      4.0  2007  (40.79, 30.09)  \n",
       "6            ilikaynak      4.5  2012  (38.75, 43.61)  \n",
       "9          degirmenozu      4.2  2011  (38.76, 43.54)  \n",
       "10  ordekdede_pazarcik      3.5  2013  (37.31, 37.11)  \n",
       "15      kapikaya_simav      3.9  2011  (39.13, 29.04)  "
      ]
     },
     "execution_count": 15,
     "metadata": {},
     "output_type": "execute_result"
    }
   ],
   "source": [
    "data['coords'] = list(zip(data.lat, data.long))\n",
    "data.head()"
   ]
  },
  {
   "cell_type": "code",
   "execution_count": 17,
   "metadata": {},
   "outputs": [
    {
     "name": "stdout",
     "output_type": "stream",
     "text": [
      "['kosekoy', 'ozalp', 'van', 'pazarck', 'simav', 'erzin', 'corum', 'bigadic', 'biga', 'karakocan', 'ayvack', 'doganyol', 'menderes', 'niksar', 'hns', 'van', 'bigadic', 'ayvack', 'gozyeri', 'simav', 'ercis', 'ercis', 'pazarck', 'gevas', 'orhaneli', 'balkesir', 'ercis', 'andrn', 'pazarck', 'andrn', 'altpnar', 'ozalp', 'saphane', 'silopi', 'sapanca', 'andrn', 'simav', 'kastamonu', 'savastepe', 'sarksla', 'yatagan', 'yatagan', 'balkesir', 'bolu', 'simav', 'akhisar', 'ercis', 'ayvack', 'can', 'sanlurfa', 'samsat', 'karlova', 'cihanbeyli', 'van', 'adyaman', 'aliaga', 'ercis', 'gevas', 'doganyol', 'sapanca', 'cungus', 'doganyol', 'ilgaz', 'varto', 'mutki', 'kas', 'van', 'bodrum', 'milas', 'akhisar', 'simav', 'van', 'kozan', 'karakocan', 'yunak', 'simav', 'pazarck', 'akyaz', 'yenicaga', 'amasya', 'ercis', 'golmarmara', 'milas', 'simav', 'refahiye', 'ercis', 'ozalp', 'van', 'pazarck', 'sivrice', 'honaz', 'dursunlu', 'hizan', 'ercis', 'ercis', 'golmarmara', 'palu', 'simav', 'ercis', 'van', 'iskilip', 'erzincan', 'basciftlik', 'yalova', 'saphane', 'saphane', 'van', 'ercis', 'lice', 'karakoyunlu', 'akhisar', 'bigadic', 'sndrg', 'karakocan', 'ula', 'balkesir', 'karakecili', 'van', 'datca', 'simav', 'karakocan', 'simav', 'ercis', 'van', 'van', 'samsat', 'kozan', 'palu', 'biga', 'simav', 'simav', 'emet', 'akhisar', 'silopi', 'pazarck', 'andrn', 'milas', 'soma', 'germencik', 'simav', 'van', 'bozova', 'ercis', 'gediz', 'karakocan', 'refahiye', 'hendek', 'duzce', 'simav', 'ercis', 'dogubayazt', 'yenicaga', 'afsin', 'ayvack', 'datca', 'ceyhan', 'saphane', 'refahiye', 'solhan', 'ayvack', 'menderes', 'korkuteli', 'kose', 'golhisar', 'kemalpasa', 'bilecik', 'ercis', 'simav', 'akhisar', 'yalvac', 'duzce', 'kusadas', 'van', 'ercis', 'kaman', 'van', 'karakocan', 'kalecik', 'palu', 'bulank', 'simav', 'varto', 'milas', 'van', 'elmal', 'iskilip', 'ercis', 'ercis', 'van', 'sungurlu', 'mugla', 'orhaneli', 'saraykoy', 'simav', 'simav', 'hozat', 'savastepe', 'van', 'van', 'kozan', 'susehri', 'milas', 'golhisar', 'can', 'akhisar', 'simav', 'refahiye', 'ercis', 'ercis', 'ercis', 'ula', 'van', 'golmarmara', 'balkesir', 'dalaman', 'iskilip', 'nurhak', 'golhisar', 'corum', 'toprakkale', 'ula', 'simav', 'ozalp', 'van', 'pervari', 'cimin', 'gerdzhyush', 'samsat', 'divrigi', 'dikili', 'sivrice', 'simav', 'ercis', 'cnarck', 'samsat', 'ercis', 'andrn', 'bodrum', 'bodrum', 'koyulhisar', 'arcak', 'simav', 'van', 'niksar', 'karabaglar', 'burdur', 'ayvack', 'hns', 'nurdag', 'elmal', 'van', 'savastepe', 'akhisar', 'samsat', 'ula', 'simav', 'simav', 'van', 'ozalp', 'marmaris', 'silopi', 'amasya', 'kulu', 'palu', 'alaca', 'van', 'simav', 'can', 'gudul', 'pazaryolu', 'akhisar', 'germencik', 'pnarbas', 'basciftlik', 'cimin', 'foca', 'van', 'van', 'van', 'ercis', 'ercis', 'simav', 'ozalp', 'baklan', 'buharkent', 'solhan', 'cnarck', 'palu', 'iskilip', 'simav', 'ozalp', 'ercis', 'saphane', 'simav', 'pazarck', 'simav', 'ugurludag', 'emet', 'gozyeri', 'karakocan', 'basciftlik', 'ayvack', 'samsat', 'saruhanl', 'refahiye', 'karlova', 'susehri', 'akhisar', 'golmarmara', 'balkesir', 'akhisar', 'hozat', 'ercis', 'diyadin', 'milas', 'pazarck', 'askale', 'doganyol', 'ceyhan', 'golhisar', 'ozalp', 'van', 'van', 'ercis', 'pazarck', 'sincik', 'cnarck', 'sndrg', 'can', 'milas', 'akhisar', 'kahramanmaras', 'duzce', 'aliaga', 'kusadas', 'simav', 'aksaray', 'kulp', 'kovanclar', 'van', 'kovanclar', 'pazarck', 'krkagac', 'ayvack', 'samsat', 'simav', 'mustafakemalpasa', 'samsat', 'karlova', 'van', 'simav', 'manyas', 'ozalp', 'simav', 'sincik', 'odemis', 'civril', 'kovanclar', 'ozalp', 'simav', 'ercis', 'pazarck', 'pamukkale', 'emirdag', 'can', 'dursunlu', 'orhaneli', 'can', 'bulank', 'van', 'yayladag', 'erdek', 'karlova', 'germencik', 'kagzman', 'karakocan', 'antalya', 'simav', 'van', 'ercis', 'van', 'ercis', 'ercis', 'pazarck', 'van', 'sincik', 'golmarmara', 'samsat', 'soke', 'bozova', 'baskil', 'karakocan', 'van', 'van', 'ercis', 'ercis', 'amasya', 'pervari', 'ercis', 'varto', 'milas', 'ilgaz', 'fethiye', 'sincik', 'emet', 'simav', 'simav', 'ercis', 'van', 'ercis', 'van', 'van', 'kozan', 'serik', 'corum', 'akhisar', 'biga', 'marmaris', 'arcak', 'simav', 'van', 'ercis', 'ercis', 'pazarck', 'ercis', 'samsat', 'saruhanl', 'golhisar', 'ergani', 'karayaz', 'ozalp', 'samsat', 'gevas', 'askale', 'golhisar', 'gediz', 'kangal', 'oltu', 'emet', 'elazg', 'ugurludag', 'karlova', 'ozalp', 'pazarck', 'goksun', 'ercis', 'solhan', 'hekimhan', 'gevas', 'milas', 'buharkent', 'sincik', 'sivrice', 'sincik', 'simav', 'van', 'ercis', 'van', 'van', 'ercis', 'golmarmara', 'bodrum', 'emet', 'pazarck', 'bayburt', 'ercis', 'ercis', 'soma', 'akyaz', 'pnarhisar', 'bolvadin', 'simav', 'yaprakl', 'van', 'van', 'ercis', 'can', 'civril', 'burhaniye', 'dinar', 'sndrg', 'palu', 'kovanclar', 'ercis', 'van', 'ercis', 'pazarck', 'pazarck', 'bozova', 'samsat', 'milas', 'toprakkale', 'ercis', 'ercis', 'selcuk', 'ozalp', 'bigadic', 'dinar', 'golmarmara', 'refahiye', 'cnarck', 'fethiye', 'demre', 'akhisar', 'simav', 'simav', 'simav', 'van', 'van', 'van', 'van', 'andrn', 'tokat', 'savastepe', 'duzce', 'ayvack', 'burhaniye', 'cimin', 'golhisar', 'germencik', 'cnarck', 'golhisar', 'semdinli', 'simav', 'simav', 'simav', 'simav', 'simav', 'van', 'van', 'simav', 'pazarck', 'demirci', 'ercis', 'orhaneli', 'turgutlu', 'ula', 'askale', 'van', 'ozalp', 'ercis', 'celikhan', 'van', 'bodrum', 'golhisar', 'pnarbas', 'kulu', 'bigadic', 'salmas', 'simav', 'simav', 'simav', 'simav', 'fethiye', 'mecitozu', 'mecitozu', 'doganyol', 'araban', 'tercan', 'germencik', 'simav', 'ercis', 'ercis', 'van', 'van', 'pazarlar', 'van', 'ercis', 'refahiye', 'sivrice', 'balkesir', 'kusadas', 'simav', 'suhut', 'yenipazar', 'tuzlukcu', 'golmarmara', 'eleskirt', 'yesilhisar', 'aladag', 'saphane', 'golmarmara', 'niksar', 'can', 'askale', 'saraykent', 'emirgazi', 'soke', 'gozyeri', 'eleskirt', 'saphane', 'ercis', 'van', 'van', 'bigadic', 'ozalp', 'kose', 'samsat', 'ayvack', 'krkagac', 'gelendost', 'askale', 'karakecili', 'bigadic', 'biga', 'atabey', 'bingol', 'simav', 'adilcevaz', 'ercis', 'van', 'emet', 'silopi', 'krkagac', 'simav', 'van', 'ercis', 'ercis', 'cnarck', 'soke', 'sivrice', 'baklan', 'sarkams', 'dogubayazt', 'simav', 'ercis', 'van', 'ercis', 'van', 'dursunbey', 'hekimhan', 'krkagac', 'samsat', 'pervari', 'sivrice', 'savastepe', 'elazg', 'simav', 'simav', 'kozan', 'van', 'ercis', 'ercis', 'adilcevaz', 'van', 'pasinler', 'ozalp', 'nurdag', 'ula', 'pazarck', 'tekman', 'simav', 'karayaz', 'burhaniye', 'van', 'selendi', 'emirgazi', 'kozan', 'refahiye', 'sivrice', 'van', 'mecitozu', 'orhaneli', 'celikhan', 'derebucak', 'honaz', 'karakocan', 'ercis', 'van', 'van', 'ercis', 'hekimhan', 'sndrg', 'ipsala', 'akhisar', 'honaz', 'caglayancerit', 'dursunbey', 'ivrindi', 'varto', 'acpayam', 'patnos', 'ercis', 'van', 'ercis', 'ercis', 'ercis', 'cay', 'nurdag', 'ozalp', 'pazarck', 'bigadic', 'can', 'emet', 'samsat', 'bingol', 'kuyucak', 'simav', 'ercis', 'van', 'van', 'cayralan', 'ozalp', 'selendi', 'cubuk', 'simav', 'van', 'bolvadin', 'milas', 'erdek', 'datca', 'kulp', 'golhisar', 'karakecili', 'simav', 'van', 'van', 'ercis', 'van', 'ercis', 'van', 'ercis', 'doganyol', 'van', 'pazarck', 'ercis', 'sefaatl', 'saruhanl', 'ula', 'dursunbey', 'banaz', 'soke', 'kocakoy', 'ivrindi', 'bulank', 'simav', 'ercis', 'ercis', 'ortaca', 'kas', 'ayvack', 'ula', 'afsin', 'van', 'ercis', 'ercis', 'corum', 'hekimhan', 'fethiye', 'van', 'agr', 'kozan', 'akyaz', 'honaz', 'derebucak', 'van', 'ercis', 'ercis', 'van', 'pazarck', 'cimin', 'ihsaniye', 'van', 'pasinler', 'ayvack', 'pasinler', 'krkagac', 'sivas', 'palu', 'ercis', 'simav', 'manisa', 'ozalp', 'van', 'mihalgazi', 'simav', 'samsat', 'duzce', 'sivrice', 'simav', 'van', 'van', 'van', 'ercis', 'agr', 'ercis', 'pervari', 'ayvack', 'buldan', 'ula', 'refahiye', 'ozalp', 'simav', 'diyadin', 'kaman', 'nurdag', 'askale', 'silopi', 'ercis', 'bozova', 'ayvack', 'golmarmara', 'simav', 'van', 'kozan', 'ihsaniye', 'karakocan', 'kose', 'van', 'van', 'isklar', 'hendek', 'pasinler', 'ahlat', 'banaz', 'van', 'ercis', 'osmanck', 'kaman', 'hakkari', 'biga', 'askale', 'kursunlu', 'savastepe', 'samsat', 'saraykoy', 'palu', 'selcuk', 'ercis', 'van', 'celeyke', 'menderes', 'balkesir', 'arapgir', 'aliaga', 'samsat', 'karakocan', 'saruhanl', 'sivrice', 'emet', 'sarkams', 'karakocan', 'aladag', 'van', 'ercis', 'van', 'ozalp', 'van', 'ercis', 'ercis', 'eskisehir', 'kadirli', 'gonen', 'arac', 'ula', 'sivrice', 'sultandag', 'soke', 'golhisar', 'sirvan', 'refahiye', 'simav', 'refahiye', 'bulank', 'ercis', 'ozalp', 'saphane', 'simav', 'ayvack', 'solhan', 'biga', 'aliaga', 'usak', 'yerkoy', 'van', 'krsehir', 'bigadic', 'erzin', 'askale', 'karlova', 'corum', 'karakecili', 'ercis', 'celikhan', 'askale', 'ula', 'karlova', 'buldan', 'corum', 'susurluk', 'akhisar', 'kusadas', 'bucak', 'simav', 'ercis', 'van', 'sarksla', 'van', 'bigadic', 'savastepe', 'aliaga', 'ercis', 'ula', 'ercis', 'ayvack', 'yenisehir', 'buldan', 'pervari', 'simav', 'simav', 'yahyal', 'krkagac', 'pazarck', 'akhisar', 'saruhanl', 'akhisar', 'ula', 'burhaniye', 'buldan', 'palu', 'ayvack', 'marmaris', 'nurdag', 'aladag', 'van', 'ercis', 'van', 'van', 'mecitozu', 'baklan', 'honaz', 'dursunbey', 'ayvack', 'saruhanl', 'bodrum', 'dogubayazt', 'ayvack', 'kozan', 'cimin', 'hakkari', 'sivrice', 'van', 'ercis', 'van', 'van', 'van', 'arapgir', 'ayvack', 'ortaca', 'gediz', 'ercis', 'ozalp', 'duzce', 'van', 'simav', 'kilis', 'tortum', 'doganyol', 'karakecili', 'vize', 'bilecik', 'van', 'egirdir', 'sivrice', 'sivrice', 'karlova', 'gelendost', 'refahiye', 'cimin', 'simav', 'sivrice', 'simav', 'simav', 'simav', 'simav', 'ercis', 'van', 'ercis', 'van', 'ercis', 'ercis', 'ozalp', 'lice', 'van', 'ula', 'karlova', 'ayvack', 'askale', 'sivrice', 'milas', 'erdek', 'van', 'golhisar', 'golmarmara', 'datca', 'emet', 'karakecili', 'doganyol', 'van', 'andrn', 'golmarmara', 'bodrum', 'altnyayla', 'sivrice', 'balkesir', 'balkesir', 'altnyayla', 'simav', 'kovanclar', 'akhisar', 'cimin', 'ercis', 'ercis', 'ercis', 'ercis', 'van', 'van', 'van', 'ercis', 'ercis', 'van', 'palu', 'balkesir', 'ayvack', 'pnarbas', 'biga', 'ayvalk', 'golhisar', 'simav', 'van', 'gonen', 'van', 'gole', 'knk', 'ihsaniye', 'nurdag', 'bingol', 'gemlik', 'elbistan', 'van', 'karakecili', 'golhisar', 'simav', 'van', 'ercis', 'van', 'ozalp', 'menemen', 'ardanuc', 'yenicaga', 'pamukkale', 'van', 'saphane', 'saphane', 'van', 'bodrum', 'milas', 'bolvadin', 'gole', 'baskil', 'elmal', 'gelendost', 'corum', 'van', 'ercis', 'ercis', 'saphane', 'mersin', 'kovanclar', 'saruhanl', 'yazhan', 'refahiye', 'simav', 'van', 'van', 'van', 'van', 'van', 'van', 'silopi', 'krkagac', 'lice', 'tosya', 'emet', 'ula', 'sarkams', 'kozan', 'golhisar', 'gonen', 'karlova', 'sarkams', 'simav', 'golhisar', 'gordes', 'mecitozu', 'ercis', 'van', 'saphane', 'tasova', 'ayvack', 'altpnar', 'karlova', 'eleskirt', 'bozova', 'gediz', 'buharkent', 'hilvan', 'simav', 'ercis', 'saphane', 'akhisar', 'bingol', 'kozan', 'pervari', 'saphane', 'bartn', 'ayvack', 'van', 'saphane', 'ercis', 'isklar', 'altpnar', 'bodrum', 'golhisar', 'ula', 'simav', 'van', 'van', 'van', 'simav', 'askale', 'sivrice', 'karakecili', 'krkagac', 'van', 'ercis', 'silopi', 'golmarmara', 'ula', 'ula', 'cimin', 'golhisar', 'emet', 'sndrg', 'sabanozu', 'ayvack', 'samsat', 'van', 'cerkes', 'doganyol', 'karlova', 'karakocan', 'akhisar', 'doganyol', 'krkagac', 'mugla', 'simav', 'simav', 'simav', 'ercis', 'van', 'torbal', 'karakocan', 'krkagac', 'saruhanl', 'selendi', 'eleskirt', 'bayburt', 'karakocan', 'saphane', 'yesilova', 'adilcevaz', 'ercis', 'sivrice', 'ula', 'ayvack', 'ayvack', 'hacbektas', 'ula', 'kovanclar', 'simav', 'ozalp', 'bulank', 'ayvack', 'ercis', 'sndrg', 'orta', 'pervari', 'golhisar', 'palu', 'gumushackoy', 'ula', 'palu', 'bulank', 'ercis', 'van', 'ozalp', 'cide', 'oltu', 'van', 'cimin', 'sincik', 'doganyol', 'bingol', 'cungus', 'bodrum', 'simav', 'ercis', 'ercis', 'ercis', 'baklan', 'ercis', 'erbaa', 'arapgir', 'mecitozu', 'turgutreis', 'hakkari', 'balkesir', 'van', 'ercis', 'ercis', 'kozan', 'honaz', 'pervari', 'selcuk', 'van', 'ercis', 'van', 'ercis', 'torbal', 'ercis', 'oltu', 'ilgaz', 'sndrg', 'ayvack', 'karlova', 'korkuteli', 'cine', 'simav', 'ozalp', 'ercis', 'ercis', 'van', 'karlova', 'refahiye', 'cnarck', 'ayvack', 'yuksekova', 'tekman', 'ercis', 'ercis', 'orhaneli', 'uludere', 'saphane', 'ercis', 'saphane', 'ercis', 'kusadas', 'ozalp', 'karlova', 'kazan', 'mugla', 'kozan', 'niksar', 'akhisar', 'ozalp', 'van', 'simav', 'silopi', 'beytussebap', 'krkagac', 'agr', 'baklan', 'ivrindi', 'bodrum', 'bodrum', 'van', 'ercis', 'van', 'van', 'ercis', 'golmarmara', 'doganyol', 'soma', 'simav', 'van', 'akhisar', 'semdinli', 'korkuteli', 'bahce', 'hizan', 'simav', 'van', 'ercis', 'saphane', 'mecitozu', 'van', 'gemlik', 'karakocan', 'dursunbey', 'golmarmara', 'karlova', 'kahramanmaras', 'yuksekova', 'saruhanl', 'yenicaga', 'karakocan', 'van', 'ercis', 'simav', 'simav', 'ula', 'ercis', 'van', 'ozalp', 'ula', 'milas', 'erbaa', 'bandrma', 'honaz', 'refahiye', 'ercis', 'van', 'sincik', 'cesme', 'golhisar', 'refahiye', 'ercis', 'ercis', 'van', 'van', 'ercis', 'simav', 'saphane', 'orta', 'pazarck', 'van', 'kozan', 'ayvack', 'sivrice', 'bolvadin', 'mersin', 'golhisar', 'karakocan', 'ercis', 'van', 'ercis', 'ercis', 'ercis', 'silopi', 'ilgaz', 'kadirli', 'palu', 'mutki', 'kelkit', 'keban', 'artova', 'kiraz', 'askale', 'karakecili', 'yenicaga', 'honaz', 'ilgaz', 'bucak', 'ercis', 'ercis', 'yahyal', 'ozalp', 'ercis', 'akhisar', 'eceabat', 'ercis', 'iskilip', 'savastepe', 'refahiye', 'fethiye', 'simav', 'bulank', 'van', 'van', 'ercis', 'ercis', 'marmaris', 'elmal', 'adilcevaz', 'saphane', 'silopi', 'hns', 'kose', 'milas', 'ercis', 'baskale', 'buldan', 'corum', 'askale', 'golhisar', 'sincik', 'van', 'van', 'ercis', 'besni', 'saphane', 'pazarck', 'mecitozu', 'ayvack', 'basciftlik', 'palu', 'kozan', 'van', 'ercis', 'van', 'mihalgazi', 'ugurludag', 'ayvack', 'kas', 'palu', 'silvan', 'hakkari', 'bulank', 'golhisar', 'bulank', 'bergama', 'ercis', 'van', 'ercis', 'ercis', 'golhisar', 'ihsaniye', 'edremit', 'guroymak', 'balkesir', 'ayvack', 'gelendost', 'buldan', 'fethiye', 'refahiye', 'arcak', 'selcuk', 'ozalp', 'ercis', 'ercis', 'ercis', 'ercis', 'golmarmara', 'simav', 'ercis', 'gevas', 'karacoban', 'tunceli', 'akhisar', 'refahiye', 'van', 'edremit', 'mutki', 'baskale', 'basciftlik', 'van', 'van', 'nurdag', 'ercis', 'amasya', 'karatas', 'corum', 'golmarmara', 'karakecili', 'hassa', 'tekirdag', 'keban', 'van', 'ercis', 'van', 'seferihisar', 'menderes', 'celikhan', 'bolu', 'milas', 'emirgazi', 'golhisar', 'aladag', 'van', 'ercis', 'ula', 'cesme', 'golhisar', 'erzincan', 'ozalp', 'ercis', 'van', 'ercis', 'sincik', 'ercis', 'saphane', 'golmarmara', 'mersin', 'askale', 'mudanya', 'ercis', 'ercis', 'saphane', 'samsat', 'gemerek', 'van', 'ercis', 'karlova', 'saphane', 'soke', 'ihsaniye', 'gevas', 'darende', 'pasinler', 'yazhan', 'ortaca', 'ahlat', 'emet', 'solhan', 'golhisar', 'ercis', 'ercis', 'ercis', 'ozalp', 'van', 'kusadas', 'ula', 'kadirli', 'osmaneli', 'sndrg', 'doganyol', 'palu', 'simav', 'karlova', 'ozalp', 'van', 'silopi', 'kadirli', 'artova', 'van', 'dalaman', 'palu', 'ercis', 'ercis', 'ercis', 'pervari', 'sndrg', 'ozalp', 'kozan', 'bodrum', 'erzincan', 'hakkari', 'gemlik', 'van', 'ercis', 'adapazar', 'cimin', 'ezine', 'antalya', 'ayvack', 'gelendost', 'doganyol', 'bulank', 'van', 'van', 'altnyayla', 'yahyal', 'kosekoy', 'golmarmara', 'akhisar', 'karacabey', 'doganyol', 'polatl', 'ayvack', 'golmarmara', 'kose', 'karlova', 'kadirli', 'ercis', 'ercis', 'kulu', 'golmarmara', 'hakkari', 'baklan', 'varto', 'van', 'van', 'ercis', 'saruhanl', 'ula', 'dereli', 'akhisar', 'sivrice', 'malatya', 'karlova', 'bingol', 'buharkent', 'marmaris', 'gediz', 'aladag', 'van', 'van', 'van', 'beytussebap', 'korkuteli', 'sivrice', 'sultandag', 'bingol', 'golhisar', 'ercis', 'ercis', 'simav', 'kaman', 'malkara', 'nurdag', 'ayvack', 'corum', 'corum', 'van', 'cimin', 'savastepe', 'van', 'van', 'kozan', 'golhisar', 'korkut', 'patnos', 'ozalp', 'ercis', 'ercis', 'van', 'eleskirt', 'van', 'golmarmara', 'bodrum', 'ercis', 'ozalp', 'karabuk', 'dogubayazt', 'salmas', 'kangal', 'banaz', 'ortaca', 'osmaniye', 'konya', 'lice', 'palu', 'ercis', 'kagzman', 'eceabat', 'karlova', 'samsat', 'krkagac', 'gediz', 'savsat', 'cimin', 'van', 'sivrice', 'burhaniye', 'ugurludag', 'simav', 'urla', 'bingol', 'ercis', 'ercis', 'sivrice', 'golhisar', 'marmaris', 'urla', 'kas', 'gediz', 'ercis', 'silopi', 'ercis', 'demirci', 'milas', 'eleskirt', 'orhaneli', 'hizan', 'bucak', 'gemlik', 'buharkent', 'sinanpasa', 'kadsehri', 'marmaris', 'atabey', 'karakecili', 'karakocan', 'hakkari', 'biga', 'delice', 'pasinler', 'sivrice', 'refahiye', 'egirdir', 'simav', 'ercis', 'ercis', 'ercis', 'van', 'ozalp', 'ercis', 'edremit', 'van', 'van', 'gevas', 'balkesir', 'yesilova', 'sandkl', 'akyurt', 'simav', 'ercis', 'simav', 'marmaris', 'hakkari', 'emirgazi', 'selendi', 'savastepe', 'pasinler', 'bayburt', 'tarsus', 'gelendost', 'saphane', 'ilgaz', 'egirdir', 'urla', 'gelendost', 'palu', 'datca', 'ozalp', 'van', 'ercis', 'kadirli', 'ercis', 'kadirli', 'bodrum', 'golmarmara', 'golhisar', 'golbas', 'tercan', 'saphane', 'cubuk', 'marmaris', 'van', 'kovanclar', 'basciftlik', 'gelendost', 'mersin', 'hekimhan', 'ercis', 'van', 'van', 'ezine', 'mersin', 'foca', 'hakkari', 'biga', 'ercis', 'ercis', 'sandkl', 'simav', 'serik', 'sivrice', 'simav', 'van', 'saphane', 'yazhan', 'orta', 'emirdag', 'ercis', 'osmanck', 'edremit', 'sultandag', 'golhisar', 'yuksekova', 'sultandag', 'denizciler', 'tercan', 'karlova', 'ula', 'saruhanl', 'zara', 'altnyayla', 'ercis', 'van', 'kas', 'balkesir', 'menderes', 'orhaneli', 'van', 'ercis', 'van', 'divrigi', 'caglayancerit', 'van', 'ercis', 'van', 'van', 'orhaneli', 'akhisar', 'ayvack', 'golmarmara', 'askale', 'karakecili', 'simav', 'ercis', 'ercis', 'horasan', 'sivrice', 'ardanuc', 'bingol', 'emet', 'golmarmara', 'palu', 'karakocan', 'ula', 'pasinler', 'ercis', 'hakkari', 'mudanya', 'bodrum', 'kelkit', 'askale', 'seferihisar', 'karakecili', 'karacabey', 'palu', 'saphane', 'seferihisar', 'simav', 'ezine', 'samsat', 'saphane', 'saruhanl', 'tavas', 'simav', 'kangal', 'ozalp', 'ayvack', 'bodrum', 'pervari', 'ercis', 'karakecili', 'baklan', 'karlova', 'tuzlukcu', 'refahiye', 'ercis', 'ercis', 'fethiye', 'van', 'golmarmara', 'bodrum', 'osmaneli', 'ula', 'karakocan', 'sivrice', 'pazarlar', 'ercis', 'kozan', 'atabey', 'menderes', 'pervari', 'delice', 'ula', 'kangal', 'gelendost', 'kovanclar', 'ula', 'ezine', 'saphane', 'yaprakl', 'ercis', 'ayvack', 'golhisar', 'ercis', 'hakkari', 'karakecili', 'semdinli', 'turgutreis', 'baklan', 'ercis', 'gordes', 'yavuzeli', 'gelendost', 'refahiye', 'karlova', 'ozalp', 'sabanozu', 'van', 'antalya', 'doganyol', 'akhisar', 'akhisar', 'askale', 'malkara', 'ercis', 'karakoyunlu', 'bulank', 'ercis', 'van', 'simav', 'akhisar', 'mecitozu', 'cifteler', 'ercis', 'bolvadin', 'sndrg', 'gokcebey', 'hakkari', 'atabey', 'cubuk', 'ercis', 'cimin', 'yazhan', 'akhisar', 'karaman', 'pasinler', 'hanak', 'tire', 'tercan', 'van', 'marmaris', 'kos', 'karlova', 'ugurludag', 'van', 'ercis', 'ergani', 'ozalp', 'korkuteli', 'ercis', 'saphane', 'simav', 'manyas', 'doganyol', 'doganyol', 'eceabat', 'ayvack', 'karlova', 'mus', 'refahiye', 'silopi', 'bulank', 'kas', 'akhisar', 'isparta', 'pasinler', 'solhan', 'varto', 'ilgn', 'van', 'hizan', 'golmarmara', 'golmarmara', 'ozalp', 'refahiye', 'ozdere', 'ozalp', 'ibrad', 'yunak', 'gevas', 'golhisar', 'van', 'sinanpasa', 'ozalp', 'honaz', 'arcak', 'cihanbeyli', 'van', 'ercis', 'hekimhan', 'marmaris', 'kadirli', 'ercis', 'ozalp', 'can', 'ozalp', 'ercis', 'arac', 'bozkr', 'pervari', 'ayvack', 'edremit', 'van', 'esenyurt', 'edremit', 'akhisar', 'ula', 'gokcebey', 'hakkari', 'van', 'cimin', 'ula', 'cesme', 'yuksekova', 'pamukkale', 'gemlik', 'van', 'ercis', 'ladik', 'ula', 'van', 'silopi', 'van', 'datca', 'ozalp', 'torbal', 'bodrum', 'seferihisar', 'karlova', 'ercis', 'hanak', 'cesme', 'ahlat', 'askale', 'ercis', 'arcak', 'urla', 'fethiye', 'karakecili', 'elmal', 'simav', 'ozalp', 'hakkari', 'simav', 'ozalp', 'ula', 'uludere', 'krsehir', 'ercis', 'datca', 'korkuteli', 'tekirdag', 'pazarlar', 'honaz', 'turgutlu', 'ceyhan', 'dogubayazt', 'kulu', 'ercis', 'torbal', 'kozan', 'gelendost', 'silopi', 'ercis', 'orhaneli', 'karatas', 'ozalp', 'ayvack', 'ayvack', 'ayvack', 'uludere', 'eskisehir', 'ercis', 'van', 'edremit', 'turgutreis', 'egirdir', 'hakkari', 'edremit', 'golmarmara', 'karlova', 'egirdir', 'ercis', 'ercis', 'honaz', 'urla', 'guroymak', 'yesilova', 'karakecili', 'tefenni', 'samsat', 'bodrum', 'semdinli', 'kadsehri', 'kelkit', 'palu', 'van', 'adilcevaz', 'ozalp', 'gordes', 'yazhan', 'ercis', 'kozan', 'biga', 'yesilova', 'samsat', 'seferihisar', 'karlova', 'adilcevaz', 'ercis', 'ialysos', 'ercis', 'sarkams', 'van', 'egirdir', 'sarkams', 'serinhisar', 'eskisehir', 'simav', 'simav', 'kulu', 'ozalp', 'toprakkale', 'urla', 'pasinler', 'van', 'goynuk', 'ayvack', 'honaz', 'kozan', 'bulank', 'ercis', 'saroglan', 'ercis', 'yerkoy', 'honaz', 'karlova', 'simav', 'solhan', 'kulu', 'simav', 'horasan', 'edremit', 'ercis', 'ula', 'gelendost', 'golhisar', 'van', 'varto', 'agr', 'kemalpasa', 'yunak', 'bolvadin', 'karakecili', 'aladag', 'ercis', 'tefenni', 'caglayancerit', 'ardanuc', 'ayvack', 'kozan', 'aydn', 'salihli', 'sarkams', 'merkezefendi', 'simav', 'ozalp', 'karaman', 'ozalp', 'karlova', 'egirdir', 'gelendost', 'van', 'ula', 'kos', 'ozalp', 'golmarmara', 'karlova', 'hakkari', 'karakecili', 'dogubayazt', 'egirdir', 'ortaca', 'simav', 'sultandag', 'egirdir', 'refahiye', 'simav', 'akyaz', 'ankara', 'simav', 'ortaca', 'golmarmara', 'menemen', 'samsat', 'kale', 'ula', 'edremit', 'ayvack', 'urla', 'marmaris', 'gelendost', 'gelendost', 'siran', 'cesme', 'saroglan', 'ayvack', 'ozalp', 'yazhan', 'urla', 'karakecili', 'pazarlar', 'ozalp', 'ercis', 'kas', 'ayvack', 'canakkale', 'van', 'van', 'hizan', 'osmaniye', 'karakecili', 'gelendost', 'yalhuyuk', 'agr', 'bodrum', 'baskale', 'ibrad', 'arcak', 'ula', 'refahiye', 'karakecili', 'dogubayazt', 'bolu', 'van', 'karakecili', 'samsat', 'kos', 'karakecili', 'gemlik', 'karakoyunlu', 'korkuteli', 'karlova', 'hakkari', 'eskisehir', 'solhan', 'sincik', 'karakocan', 'yuksekova', 'van', 'simav', 'sincik', 'almus', 'srnak', 'denizli', 'elmal', 'ula', 'almus', 'caglayancerit', 'yahyal', 'imranl', 'altpnar', 'korkuteli', 'divrigi', 'ercis', 'yuksekova', 'simav', 'avsallar', 'gokcebey', 'ula', 'samsat', 'gevas', 'vrontados', 'refahiye', 'samsat', 'karakecili', 'karakecili', 'karakecili', 'denizli', 'edremit', 'denizli', 'van', 'ozalp', 'bodrum', 'narman', 'edremit', 'honaz', 'bafra', 'fethiye', 'biga', 'sultandag', 'cihanbeyli', 'hekimhan', 'karakecili', 'hakkari', 'cukurca', 'golhisar', 'eskisehir', 'karakecili', 'pamukkale', 'karakecili', 'divrigi', 'korkuteli', 'banaz', 'ozalp', 'simav', 'karakecili', 'hakkari', 'ayvack', 'zara', 'van', 'van', 'silopi', 'cesme', 'krklareli', 'aladag', 'gelendost', 'karakecili', 'cihanbeyli', 'cnarck', 'cerkes', 'ercis', 'edremit', 'derebucak', 'egirdir', 'korkuteli', 'van', 'kayseri', 'van', 'marmaris', 'hakkari', 'yuksekova', 'dogubayazt', 'ayvack', 'edremit', 'gelibolu', 'andrn', 'ozalp', 'karakecili', 'taskent', 'sincik', 'golhisar', 'denizli', 'van', 'boyalk', 'eskisehir', 'uludere', 'van', 'egirdir', 'samsat', 'ahlat', 'elmal', 'egirdir', 'refahiye', 'hekimhan', 'ula', 'tercan', 'ozalp', 'edremit', 'edremit', 'dogubayazt', 'derebucak', 'kale', 'tercan', 'edremit', 'karakecili', 'korkuteli', 'tut', 'konya', 'edremit', 'seferihisar', 'karakecili', 'kayseri', 'tekirdag', 'derebucak', 'solhan', 'ercis', 'edremit', 'urla', 'seferihisar', 'dogubayazt', 'edremit', 'menemen', 'hakkari', 'edremit', 'yuksekova', 'tarsus', 'edremit', 'gelibolu', 'konya', 'van', 'karlova', 'yuksekova', 'silopi', 'bodrum', 'konya', 'tercan', 'yuksekova', 'ula', 'tut', 'hakkari', 'biga', 'beytussebap', 'honaz', 'celikhan', 'bafra', 'edremit', 'edremit', 'yayladag', 'karakecili', 'tercan', 'hakkari', 'eskisehir', 'haymana', 'kayseri', 'korkuteli', 'ula', 'uludere', 'kayseri', 'urla', 'kayseri', 'kas', 'andrn', 'ercis', 'biga', 'honaz', 'yahyal', 'bolu', 'eceabat', 'ula', 'erdek', 'derebucak', 'seferihisar', 'cesme', 'ula', 'cesme', 'almus', 'solhan', 'seferihisar', 'taskent', 'andrn', 'bolvadin', 'gelendost', 'karlova', 'cesme', 'seferihisar', 'korkuteli', 'urla', 'sereflikochisar', 'kas', 'adana', 'seferihisar', 'adilcevaz', 'silopi', 'urla', 'fethiye', 'dogubayazt', 'karlova', 'ankara', 'biga', 'ayvack', 'semdinli', 'andrn', 'elmadag', 'adilcevaz', 'karlova', 'kandra', 'biga', 'aladag', 'yunak', 'urla', 'kayseri', 'ula', 'seferihisar', 'seferihisar', 'urla', 'menemen', 'kale', 'adana', 'kas', 'uludere', 'kayseri', 'belek', 'dursunlu', 'urla', 'cesme', 'seferihisar', 'seferihisar', 'ozalp', 'yuksekova', 'hakkari', 'seferihisar', 'seferihisar', 'fethiye', 'adana', 'antalya', 'seferihisar', 'seferihisar', 'kale', 'gokceada', 'seferihisar', 'ortaca', 'semdinli', 'haymana', 'seferihisar', 'seferihisar', 'seferihisar', 'elmadag', 'gokceada', 'gokceada', 'fethiye', 'seferihisar', 'seferihisar', 'haymana', 'cukurca', 'ozalp', 'kayseri', 'gokceada', 'feres', 'tekirova', 'gokceada', 'salmas', 'cukurca', 'gokceada', 'elmadag', 'ozalp', 'gokceada', 'feres', 'gokceada', 'tirebolu', 'ruwandiz', 'cayeli', 'semdinli', 'gokceada', 'gokceada', 'ahlat', 'gokceada', 'gokceada', 'gokceada', 'eksere', 'gokceada', 'gokceada', 'gokceada', 'gokceada', 'feres', 'gokceada', 'ruwandiz', 'gokceada', 'alexandroupoli', 'gokceada', 'gokceada', 'gokceada', 'ozalp', 'gokceada', 'gokceada', 'gokceada', 'gokceada', 'feres', 'oshnaviyeh', 'gokceada', 'gokceada', 'gokceada', 'semdinli', 'gyumri', 'silopi', 'gokceada', 'salmas', 'topolovgrad', 'salmas', 'topolovgrad', 'topolovgrad', 'salmas', 'salmas', 'zestaponi', 'samtredia', 'ruwandiz', 'salmas', 'samtredia', 'ruwandiz', 'sliven', 'straldzha', 'zestaponi', 'tqibuli', 'tqibuli', 'marmara ereglisi', 'myrina', 'bandrma', 'kalymnos', 'anavyssos', 'archangelos', 'kalymnos', 'sitia', 'paphos', 'archangelos', 'sitia', 'nea ionia', 'archangelos', 'paphos', 'sitia', 'sitia', 'sitia', 'beykonak', 'vrontados', 'bandrma', 'gokceada', 'myrina', 'ayvack', 'eceabat', 'eceabat', 'gokceada', 'gokceada', 'gokceada', 'gokceada', 'kalymnos', 'vrontados', 'archangelos', 'lavrio', 'tseri', 'beykonak', 'dikili', 'mytilene', 'kalymnos', 'ciftlikkoy', 'limassol', 'archangelos', 'kalymnos', 'tympaki', 'gokceada', 'vrontados', 'bodrum', 'kalymnos', 'foca', 'sitia', 'datca', 'bodrum', 'datca', 'bodrum', 'datca', 'archangelos', 'archangelos', 'datca', 'paphos', 'bodrum', 'bodrum', 'datca', 'datca', 'bodrum', 'myrina', 'datca', 'vrontados', 'gokceada', 'archangelos', 'kas', 'rodos', 'archangelos', 'adalar', 'datca', 'beykonak', 'gastouni', 'neon karlovasion', 'kalymnos', 'neon karlovasion', 'neon karlovasion', 'mournies', 'mytilene', 'chania', 'datca', 'kemer', 'archangelos', 'vrontados', 'vrontados', 'vrontados', 'ierapetra', 'sitia', 'myrina', 'archangelos', 'archangelos', 'foca', 'datca', 'datca', 'datca', 'limassol', 'datca', 'bodrum', 'datca', 'kas', 'datca', 'vrontados', 'kas', 'kas', 'al qaryatayn', 'kas', 'khowy', 'kas', 'kas', 'psachna', 'ierapetra', 'archangelos', 'sitia', 'myrina', 'neon karlovasion', 'neon karlovasion', 'neon karlovasion', 'nea alikarnassos', 'paphos', 'gokceada', 'tekirdag', 'sitia', 'gokceada', 'kas', 'vrontados', 'altnoluk', 'ozdere', 'gazipasa', 'beykonak', 'gazipasa', 'kas', 'vrontados', 'ar raqqah', 'sitia', 'cizre', 'ierapetra', 'archangelos', 'nea alikarnassos', 'hashtrud', 'neon karlovasion', 'neon karlovasion', 'neon karlovasion', 'neon karlovasion', 'neon karlovasion', 'tekirdag', 'beykonak', 'sitia', 'neon karlovasion', 'sitia', 'neon karlovasion', 'sitia', 'sitia', 'batroun', 'sitia', 'sitia', 'baneh', 'khowy', 'khowy', 'ialysos', 'sitia', 'kas', 'kalymnos', 'sitia', 'skiathos', 'mytilene', 'beykonak', 'belek', 'kos', 'salmas', 'myrina', 'pogoanele', 'vrontados', 'ierapetra', 'piranshahr', 'lagkadas', 'lagkadas', 'ierapetra', 'hashtrud', 'hashtrud', 'tashir', 'vrontados', 'sitia', 'tsalenjikha', 'gali', 'kalymnos', 'archangelos', 'seferihisar', 'seferihisar', 'karyes', 'seferihisar', 'seferihisar', 'seferihisar', 'seferihisar', 'seferihisar', 'seferihisar', 'seferihisar', 'seferihisar', 'seferihisar', 'ypsonas', 'seferihisar', 'seferihisar', 'seferihisar', 'kusadas', 'seferihisar', 'seferihisar', 'seferihisar', 'seferihisar', 'seferihisar', 'seferihisar', 'seferihisar', 'seferihisar', 'seferihisar', 'seferihisar', 'cesme', 'seferihisar', 'seferihisar', 'seferihisar', 'seferihisar', 'seferihisar', 'seferihisar', 'seferihisar', 'sitia', 'seferihisar', 'seferihisar', 'ierapetra', 'seferihisar', 'seferihisar', 'seferihisar', 'seferihisar', 'kalymnos', 'seferihisar', 'seferihisar', 'tympaki', 'seferihisar', 'seferihisar', 'tashir', 'myrina', 'myrina', 'seferihisar', 'sitia', 'archangelos', 'ierapetra', 'ierapetra', 'mournies', 'moires', 'ierapetra', 'kermanshah', 'edremit', 'sitia', 'archangelos', 'archangelos', 'ninotsminda', 'sitia', 'thivai', 'khowy', 'skiathos', 'foca', 'ermoupolis', 'archangelos', 'ermoupolis', 'sparti', 'chania', 'kifri', 'mersin', 'sitia', 'mytilene', 'archangelos', 'foca', 'aqrah', 'sitia', 'sitia', 'gokceada', 'kardzhali', 'sitia', 'tqibuli', 'seferihisar', 'neon karlovasion', 'kalymnos', 'sitia', 'datca', 'paphos', 'kalymnos', 'ayvack', 'gokceada', 'sitia', 'sitia', 'sinop', 'salmas', 'sitia', 'sitia', 'seferihisar', 'moires', 'sitia', 'piranshahr', 'psachna', 'paphos', 'beykonak', 'archangelos', 'kos', 'foca', 'foca', 'foca', 'archangelos', 'foca', 'khowy', 'ierapetra', 'chios', 'marmaris', 'kos', 'sitia', 'beykonak', 'nea alikarnassos', 'ierapetra', 'aliveri', 'sitia', 'tadmur', 'serres', 'sitia', 'aqrah', 'datca', 'al karamah', 'baynjiwayn', 'al karamah', 'yayladag', 'mournies', 'archangelos', 'archangelos', 'archangelos', 'latakia', 'dogubayazt', 'kalinovskaya', 'sitia', 'koysinceq', 'protaras', 'qarah zia od din', 'archangelos', 'mudanya', 'sitia', 'mudanya', 'neon karlovasion', 'gokceada', 'kalymnos', 'mournies', 'paphos', 'kalymnos', 'sitia', 'khowy', 'dhrosia', 'tympaki', 'skiathos', 'akhmeta', 'sitia', 'ezine', 'ayvack', 'ayvack', 'myrina', 'ayvack', 'kalymnos', 'abovyan', 'paphos', 'paphos', 'paphos', 'aliveri', 'skiathos', 'vrontados', 'datca', 'kas', 'muratpasa', 'archangelos', 'kos', 'sitia', 'mytilene', 'myrina', 'karyes', 'eceabat', 'aliveri', 'turkler', 'gazipasa', 'mytilene', 'sarigerme', 'kas', 'ozdere', 'qarah zia od din', 'qarah zia od din', 'archangelos', 'komotini', 'aliveri', 'sitia', 'karyes', 'limassol', 'myrina', 'archangelos', 'vrontados', 'sarigerme', 'sitia', 'archangelos', 'sitia', 'kas', 'qarah zia od din', 'myrina', 'sitia', 'ozdere', 'kalymnos', 'mytilene', 'mytilene', 'mytilene', 'kos', 'sitia', 'sitia', 'serres', 'archangelos', 'koysinceq', 'archangelos', 'sitia', 'archangelos', 'tashir', 'kas', 'tekirova', 'sachkhere', 'ninotsminda', 'tallkayf', 'tseri', 'avsallar', 'moires', 'myrina', 'vrontados', 'al hasakah', 'gazipasa', 'dhromolaxia', 'naxos', 'kalymnos', 'archangelos', 'tremseh', 'vrontados', 'mytilene', 'kas', 'sitia', 'zaxo', 'bodrum', 'bodrum', 'sitia', 'aliveri', 'aliveri', 'tekirova', 'sitia', 'marmaris', 'aliveri', 'archangelos', 'sitia', 'al hasakah', 'moires', 'sitia', 'sitia', 'al hasakah', 'sitia', 'kalymnos', 'belek', 'sitia', 'vrontados', 'vrontados', 'vrontados', 'vrontados', 'vrontados', 'vrontados', 'vrontados', 'vrontados', 'side', 'archangelos', 'vrontados', 'belek', 'archangelos', 'sitia', 'naxos', 'tabriz', 'ialysos', 'gazipasa', 'vrontados', 'hashtrud', 'ayvack', 'tekirova', 'dihok', 'ayvack', 'as salamiyah', 'chios', 'vrontados', 'vrontados', 'mytilene', 'mytilene', 'mytilene', 'mytilene', 'archangelos', 'sitia', 'vrontados', 'sitia', 'mytilene', 'archangelos', 'sitia', 'tekirova', 'gazipasa', 'ayvack', 'alexandroupoli', 'kalymnos', 'al hasakah', 'aegina', 'kos', 'archangelos', 'ayvack', 'tyre', 'khowy', 'turkler', 'deir ez-zor', 'al hasakah', 'irakleion', 'neon karlovasion', 'ierapetra', 'archangelos', 'archangelos', 'mytilene', 'sitia', 'kalymnos', 'aliveri', 'khowy', 'nea alikarnassos', 'myrina', 'neon karlovasion', 'tobruk', 'archangelos', 'neon karlovasion', 'ozdere', 'faliraki', 'paphos', 'archangelos', 'seferihisar', 'paphos', 'myrina', 'gokceada', 'kas', 'kos', 'neon karlovasion', 'kas', 'dihok', 'sitia', 'tekirdag', 'archangelos', 'sitia', 'myrina', 'sinjar', 'myrina', 'sandanski', 'aspropyrgos', 'ypsonas', 'gudauri', 'tekirova', 'polygyros', 'nabatiye et tahta', 'ierapetra', 'kas', 'sitia', 'sitia', 'kas', 'archangelos', 'tashir', 'archangelos', 'khowy', 'tympaki', 'mudanya', 'mudanya', 'sitia', 'chania', 'archangelos', 'archangelos', 'archangelos', 'sitia', 'archangelos', 'paphos', 'archangelos', 'archangelos', 'archangelos', 'aliveri', 'foca', 'edremit', 'paphos', 'gazipasa', 'chios', 'vrontados', 'vrontados', 'gazipasa', 'vrontados', 'aegina', 'aegina', 'skiathos', 'skiathos', 'skiathos', 'paphos', 'cide', 'chania', 'paphos', 'marmara ereglisi', 'limassol', 'khowy', 'beykonak', 'aparan', 'archangelos', 'aliveri', 'al hasakah', 'archangelos', 'archangelos', 'kalymnos', 'ezine', 'archangelos', 'archangelos', 'sitia', 'gazipasa', 'ypsonas', 'avsallar', 'archangelos', 'paphos', 'gudermes', 'engel-yurt', 'archangelos', 'moires', 'engel-yurt', 'engel-yurt', 'datca', 'protaras', 'cnarck', 'ayvack', 'paphos', 'karyes', 'turkler', 'paphos', 'archangelos', 'dolni chiflik', 'ayvack', 'ayvack', 'sitia', 'dhromolaxia', 'marmaris', 'archangelos', 'ierapetra', 'sofia', 'archangelos', 'kalymnos', 'skiathos', 'vrontados', 'paveh', 'datca', 'sitia', 'didim', 'chania', 'koysinceq', 'archangelos', 'mournies', 'datca', 'finike', 'karyes', 'mytilene', 'mytilene', 'al hasakah', 'archangelos', 'gokceada', 'karyes', 'sitia', 'marmara ereglisi', 'marmara ereglisi', 'marmara ereglisi', 'archangelos', 'vrontados', 'ozdere', 'datca', 'subaykhan', 'sevlievo', 'dhromolaxia', 'dhromolaxia', 'al mayadin', 'al hasakah', 'moires', 'ayvack', 'aliaga', 'kos', 'moires', 'sinjar', 'vrontados', 'kalymnos', 'myrina', 'gazipasa', 'archangelos', 'beykonak', 'aliaga', 'terme', 'myrina', 'marmara ereglisi', 'gokceada', 'al mayadin', 'vrontados', 'krumovgrad', 'kas', 'archangelos', 'paphos', 'yayladag', 'myrina', 'dihok', 'sitia', 'tekirdag', 'datca', 'sitia', 'mytilene', 'ierapetra', 'al hasakah', 'kalymnos', 'sitia', 'sitia', 'mytilene', 'alexandroupoli', 'ierapetra', 'kas', 'sitia', 'archangelos', 'archangelos', 'archangelos', 'archangelos', 'archangelos', 'archangelos', 'archangelos', 'archangelos', 'archangelos', 'archangelos', 'neon karlovasion', 'gokceada', 'neon karlovasion', 'demre', 'aliaga', 'archangelos', 'paros', 'paros', 'paros', 'paros', 'paros', 'paros', 'paros', 'ierapetra', 'paphos', 'paphos', 'sitia', 'akhalkalaki', 'ierapetra', 'ierapetra', 'ierapetra', 'ierapetra', 'ierapetra', 'archangelos', 'ierapetra', 'ypsonas', 'ypsonas', 'archangelos', 'archangelos', 'al-hamdaniya', 'golcuk', 'archangelos', 'al-hamdaniya', 'parvomay', 'afantou', 'aliveri', 'myrina', 'asenovgrad', 'kas', 'akhalkalaki', 'kavarna', 'sitia', 'ierapetra', 'archangelos', 'vrontados', 'ierapetra', 'ypsonas', 'archangelos', 'ierapetra', 'sitia', 'vrontados', 'foca', 'megara', 'neon karlovasion', 'sachkhere', 'sachkhere', 'lentekhi', 'sachkhere', 'kas', 'ierapetra', 'didim', 'ierapetra', 'ierapetra', 'vrontados', 'limassol', 'al hasakah', 'al mayadin', 'kemer', 'ierapetra', 'ierapetra', 'sitia', 'tekirova', 'nea moudhania', 'karyes', 'sitia', 'vrontados', 'sitia', 'mytilene', 'karatas', 'ierapetra', 'mytilene', 'sitia', 'mytilene', 'mytilene', 'piranshahr', 'mahmutlar', 'archangelos', 'ozalp', 'archangelos', 'demre', 'karyes', 'karystos', 'vrontados', 'beykonak', 'kalymnos', 'sitia', 'foca', 'sarigerme', 'datca', 'gazipasa', 'neon karlovasion', 'datca', 'archangelos', 'ierapetra', 'didim', 'al hasakah', 'archangelos', 'ierapetra', 'paphos', 'sitia', 'archangelos', 'sitia', 'archangelos', 'sitia', 'sitia', 'sitia', 'aliaga', 'sitia', 'agios nikolaos', 'paphos', 'gazipasa', 'ruwandiz', 'subaykhan', 'archangelos', 'sitia', 'dihok', 'poti', 'demre', 'neon karlovasion', 'ierapetra', 'rodos', 'avsallar', 'ypsonas', 'erbil', 'ypsonas', 'ypsonas', 'al mayadin', 'archangelos', 'beykonak', 'archangelos', 'paphos', 'paphos', 'sitia', 'skiathos', 'chios', 'cesme', 'cesme', 'cesme', 'sitia', 'tekirova', 'mahabad', 'kas', 'sachkhere', 'neon karlovasion', 'sitia', 'sitia', 'archangelos', 'mosul', 'paphos', 'protaras', 'psachna', 'ayvack', 'vrontados', 'vrontados', 'demre', 'al hasakah', 'koysinceq', 'archangelos', 'jamjamal', 'mytilene', 'archangelos', 'sitia', 'datca', 'sitia', 'mudanya', 'agios nikolaos', 'sitia', 'aliaga', 'deir ez-zor', 'sitia', 'sitia', 'sitia', 'sitia', 'sitia', 'kos', 'kalymnos', 'skiathos', 'gokceada', 'sitia', 'kas', 'lefka', 'paphos', 'didim', 'fethiye', 'datca', 'neon karlovasion', 'piranshahr', 'semdinli', 'karyes', 'dhrosia', 'sitia', 'sitia', 'mytilene', 'datca', 'moires', 'sitia', 'sitia', 'sitia', 'sitia', 'as salamiyah', 'al hasakah', 'paphos', 'sitia', 'sitia', 'ierapetra', 'al hasakah', 'myrina', 'marmara ereglisi', 'sitia', 'sitia', 'as sulaymaniyah', 'sitia', 'kas', 'beykonak', 'sitia', 'mytilene', 'sitia', 'mytilene', 'zaxo', 'tekirdag', 'vrontados', 'eceabat', 'archangelos', 'protaras', 'paphos', 'iskenderun', 'sitia', 'dihok', 'neon karlovasion', 'kas', 'neon karlovasion', 'nea alikarnassos', 'kalymnos', 'archangelos', 'ozalp', 'vrontados', 'tekirova', 'vrontados', 'datca', 'marand', 'ath thawrah', 'vrontados', 'kos', 'myrina', 'myrina', 'latakia', 'biga', 'sinah', 'archangelos', 'ierapetra', 'marmaris', 'hamah', 'side', 'skiathos', 'beykonak', 'paphos', 'khowy', 'gazipasa', 'myrina', 'beykonak', 'kusadas', 'petrich', 'ypsonas', 'aliveri', 'sitia', 'kos', 'baneh', 'baneh', 'ierapetra', 'tyre', 'archangelos', 'ierapetra', 'bandrma', 'bandrma', 'jisr ash shughur', 'myskhako', 'paphos', 'mytilene', 'harmanli', 'sitia', 'sitia', 'sarigerme', 'sarpol-e zahab', 'sarigerme', 'ierapetra', 'kas', 'protaras', 'nea alikarnassos', 'myrina', 'nea artaki', 'seferihisar', 'marmaris', 'paphos', 'baneh', 'gradistea', 'marmaris', 'kos', 'kos', 'tympaki', 'darnah', 'avsallar', 'tekirova', 'sitia', 'mournies', 'naxos', 'ierapetra', 'erbil', 'kas', 'giannitsa', 'kas', 'kas', 'kas', 'sarigerme', 'ypsonas', 'sitia', 'archangelos', 'archangelos', 'bodrum', 'paphos', 'yayladag', 'vrontados', 'kalymnos', 'sparti', 'foca', 'skiathos', 'korinthos', 'neon karlovasion', 'karyes', 'archangelos', 'marmara ereglisi', 'marmara ereglisi', 'sitia', 'marmara ereglisi', 'nea moudhania', 'nahariyya', 'sitia', 'demre', 'mudanya', 'ierapetra', 'mudanya', 'tqibuli', 'chiatura', 'tuzla', 'paros', 'kas', 'partenit', 'beykonak', 'sitia', 'faliraki', 'kalymnos', 'kalymnos', 'ierapetra', 'vrontados', 'mournies', 'ninotsminda', 'vrontados', 'myrina', 'sarigerme', 'demre', 'myrina', 'demre', 'kas', 'marmara ereglisi', 'gudauri', 'vrontados', 'ermoupolis', 'beykonak', 'adilcevaz', 'edremit', 'ercis', 'adilcevaz', 'ercis', 'adilcevaz', 'edremit', 'van', 'ercis', 'edremit', 'ercis', 'edremit', 'edremit', 'adilcevaz', 'adilcevaz', 'ercis', 'adilcevaz', 'ercis', 'adilcevaz', 'ercis', 'sarigerme', 'sarigerme', 'edremit', 'van', 'ercis', 'van', 'ercis', 'edremit', 'ercis', 'edremit', 'adilcevaz', 'ercis', 'karyes', 'cukurca', 'edremit', 'edremit', 'edremit', 'kos', 'adilcevaz', 'edremit', 'nea alikarnassos', 'adilcevaz', 'edremit', 'adilcevaz', 'edremit', 'edremit', 'archangelos', 'vrontados', 'gevas', 'gevas', 'vrontados', 'van', 'adilcevaz', 'edremit', 'kas', 'adilcevaz', 'myrina', 'myrina', 'ercis', 'sitia', 'archangelos', 'edremit', 'edremit', 'edremit', 'neon karlovasion', 'sidon', 'mytilene', 'mytilene', 'mytilene', 'adilcevaz', 'mournies', 'edremit', 'edremit', 'mournies', 'chiatura', 'sitia', 'ozdere', 'kusadas', 'sarigerme', 'kas', 'farsala', 'ierapetra', 'fethiye', 'archangelos', 'archangelos', 'archangelos', 'paphos', 'tekirova', 'archangelos', 'limassol', 'adilcevaz', 'afantou', 'afantou', 'sitia', 'sinah', 'afantou', 'limassol', 'rethymno', 'sitia', 'nea alikarnassos', 'rethymno', 'nea alikarnassos', 'nea alikarnassos', 'nea alikarnassos', 'chania', 'nea alikarnassos', 'rethymno', 'nea alikarnassos', 'didim', 'didim', 'didim', 'rethymno', 'paros', 'nea alikarnassos', 'gazi', 'karpenisi', 'paros', 'nea alikarnassos', 'nea alikarnassos', 'gazi', 'ierapetra', 'nea alikarnassos', 'vrontados', 'ierapetra', 'belek', 'tekirova', 'rethymno', 'rethymno', 'gazi', 'nea alikarnassos', 'naxos', 'edremit', 'edremit', 'seferihisar', 'fethiye', 'archangelos', 'anamur', 'kos', 'aliveri', 'karyes', 'karyes', 'nea alikarnassos', 'rethymno', 'gazi', 'faliraki', 'naxos', 'ercis', 'ayvack', 'ierapetra', 'karyes', 'karyes', 'karyes', 'edremit', 'rethymno', 'mournies', 'paphos', 'mournies', 'paphos', 'archangelos', 'archangelos', 'yakuplu', 'marmara ereglisi', 'limassol', 'chania', 'adilcevaz', 'al hasakah', 'souda', 'sitia', 'ierapetra', 'ayvack', 'nusaybin', 'chania', 'anatoli', 'al hasakah', 'ierapetra', 'sitia', 'adilcevaz', 'karyes', 'archangelos', 'archangelos', 'archangelos', 'archangelos', 'archangelos', 'nea alikarnassos', 'chania', 'myrina', 'foca', 'foca', 'gazi', 'foca', 'foca', 'foca', 'foca', 'polygyros', 'foca', 'aydnck', 'foca', 'sarigerme', 'afantou', 'gevas', 'ypsonas', 'arta', 'protaras', 'chalastra', 'zaqatala', 'karyes', 'ypsonas', 'sitia', 'sitia', 'archangelos', 'datca', 'jisr ash shughur', 'archangelos', 'limassol', 'aliabad', 'bodrum', 'van', 'sitia', 'silopi', 'pernik', 'demre', 'ialysos', 'archangelos', 'archangelos', 'archangelos', 'archangelos', 'tympaki', 'moires', 'tekirova', 'mytilene', 'archangelos', 'gazipasa', 'archangelos', 'nea alikarnassos', 'faliraki', 'septemvri', 'neon karlovasion', 'marmara ereglisi', 'foca', 'skiathos', 'adilcevaz', 'fethiye', 'fethiye', 'fethiye', 'fethiye', 'fethiye', 'fethiye', 'fethiye', 'fethiye', 'fethiye', 'fethiye', 'fethiye', 'fethiye', 'fethiye', 'fethiye', 'fethiye', 'fethiye', 'fethiye', 'kas', 'marmaris', 'kaspi', 'bodrum', 'bodrum', 'slivnitsa', 'sitia', 'beykonak', 'sitia', 'gokceada', 'kos', 'beykonak', 'aigio', 'adilcevaz', 'fethiye', 'fethiye', 'fethiye', 'sochi', 'paphos', 'paphos', 'paphos', 'chania', 'sitia', 'kalymnos', 'kas', 'pernik', 'ierapetra', 'kalymnos', 'moires', 'gudauri', 'kalymnos', 'sitia', 'eceabat', 'protaras', 'tekirova', 'mytilene', 'adilcevaz', 'adilcevaz', 'fethiye', 'pernik', 'skiathos', 'ayvack', 'ierapetra', 'aliveri', 'sarigerme', 'tympaki', 'mudanya', 'tekirova', 'ahar', 'neon karlovasion', 'neon karlovasion', 'neon karlovasion', 'vrontados', 'neon karlovasion', 'archangelos', 'paphos', 'mosul', 'ahar', 'archangelos', 'tekirova', 'myrina', 'cukurca', 'paros', 'rethymno', 'aqrah', 'vrontados', 'archangelos', 'archangelos', 'mournies', 'al bayda', 'sitia', 'adilcevaz', 'skiathos', 'ezine', 'foca', 'kas', 'archangelos', 'archangelos', 'archangelos', 'ypsonas', 'kalymnos', 'archangelos', 'myrina', 'archangelos', 'archangelos', 'lagodekhi', 'protaras', 'rosetta', 'aliveri', 'rodos', 'almyros', 'side', 'mudanya', 'ahar', 'ahar', 'mudanya', 'ierapetra', 'mudanya', 'ar raqqah', 'gargalianoi', 'turkler', 'ahar', 'ercis', 'ahar', 'ahar', 'naxos', 'datca', 'archangelos', 'archangelos', 'datca', 'rodos', 'archangelos', 'dogubayazt', 'kas', 'archangelos', 'hurfeish', 'archangelos', 'moires', 'kas', 'karyes', 'archangelos', 'naxos', 'archangelos', 'ialysos', 'datca', 'datca', 'datca', 'datca', 'ialysos', 'datca', 'ierapetra', 'demir kapija', 'rodos', 'khowy', 'qarah zia od din', 'paphos', 'kalymnos', 'kalymnos', 'ayvack', 'paphos', 'datca', 'ypsonas', 'kos', 'kavarna', 'sparti', 'sparti', 'larnaca', 'archangelos', 'myrina', 'archangelos', 'ierapetra', 'archangelos', 'foca', 'archangelos', 'ninotsminda', 'kos', 'ochamchire', 'ochamchire', 'ochamchire', 'khowy', 'khowy', 'kalymnos', 'ochamchire', 'ochamchire', 'ochamchire', 'ochamchire', 'ochamchire', 'patra', 'fethiye', 'aliaga', 'ochamchire', 'piranshahr', 'moires', 'gokceada', 'ochamchire', 'myrina', 'myrina', 'sitia', 'myrina', 'myrina', 'myrina', 'myrina', 'myrina', 'myrina', 'myrina', 'myrina', 'myrina', 'myrina', 'ierapetra', 'myrina', 'myrina', 'myrina', 'myrina', 'myrina', 'myrina', 'myrina', 'myrina', 'myrina', 'myrina', 'archangelos', 'myrina', 'myrina', 'myrina', 'myrina', 'myrina', 'gokceada', 'myrina', 'myrina', 'datca', 'myrina', 'myrina', 'myrina', 'vrontados', 'myrina', 'myrina', 'myrina', 'myrina', 'sochi', 'kalamata', 'poti', 'myrina', 'myrina', 'myrina', 'myrina', 'kalymnos', 'ochamchire', 'myrina', 'gazipasa', 'myrina', 'ierapetra', 'tabriz', 'ahar', 'aigio', 'sitia', 'myrina', 'psachna', 'myrina', 'ochamchire', 'ierapetra', 'as sulaymaniyah', 'myrina', 'mournies', 'agria', 'ierapetra', 'adilcevaz', 'mournies', 'myrina', 'myrina', 'archangelos', 'vrontados', 'karyes', 'karyes', 'karyes', 'ezine', 'archangelos', 'gazipasa', 'nea alikarnassos', 'didim', 'didim', 'didim', 'didim', 'neon karlovasion', 'ochamchire', 'bukan', 'piranshahr', 'kalymnos', 'vrontados', 'rizokarpaso', 'tympaki', 'myrina', 'tripoli', 'ierapetra', 'ierapetra', 'ierapetra', 'tympaki', 'mournies', 'sinah', 'tallkayf', 'skiathos', 'sinah', 'vrontados', 'archangelos', 'moires', 'messini', 'tabriz', 'sile', 'gazipasa', 'tympaki', 'kas', 'megalopoli', 'rethymno', 'teberda', 'gokceada', 'ahar', 'chania', 'mukharram al fawqani', 'as salamiyah', 'vrontados', 'vrontados', 'sinah', 'mournies', 'mournies', 'ierapetra', 'moires', 'mournies', 'rethymno', 'moires', 'moires', 'topolovgrad', 'sparti', 'sitia', 'pregradnaya', 'gazipasa', 'mytilene', 'mournies', 'rodos', 'mytilene', 'mytilene', 'moires', 'moires', 'moires', 'qarah zia od din', 'marand', 'khowy', 'kalymnos', 'mournies', 'archangelos', 'dzagam', 'gokceada', 'archangelos', 'sparti', 'moires', 'gokceada', 'argos', 'datca', 'neon karlovasion', 'amfissa', 'moires', 'topolovgrad', 'mytilene', 'nea michaniona', 'mytilene', 'kalamata', 'archangelos', 'demre', 'myrina', 'mytilene', 'topolovgrad', 'kas', 'sitia', 'tympaki', 'chania', 'didim', 'moires', 'didim', 'teberda', 'mytilene', 'aegina', 'rafina', 'sitia', 'myrina', 'foca', 'kato achaia', 'ierapetra', 'moires', 'moires', 'moires', 'moires', 'moires', 'moires', 'moires', 'moires', 'moires', 'moires', 'moires', 'moires', 'moires', 'moires', 'moires', 'moires', 'moires', 'archangelos', 'moires', 'moires', 'moires', 'ierapetra', 'archangelos', 'archangelos', 'archangelos', 'archangelos', 'archangelos', 'moires', 'datca', 'neon karlovasion', 'moires', 'marmaris', 'moires', 'ozalp', 'archangelos', 'side', 'ierapetra', 'khowy', 'marand', 'orumiyeh', 'ierapetra', 'lefkada', 'archangelos', 'mournies', 'kozani', 'kozani', 'sparti', 'topolovgrad', 'topolovgrad', 'sharur city', 'protaras', 'gokceada', 'mournies', 'moires', 'mytilene', 'moires', 'moires', 'moires', 'tekirova', 'moires', 'vrontados', 'neon karlovasion', 'mytilene', 'didim', 'archangelos', 'kozani', 'simitli', 'simitli', 'pehcevo', 'simitli', 'simitli', 'simitli', 'blagoevgrad', 'tympaki', 'side', 'messini', 'hashtrud', 'tallkayf', 'sitia', 'moires', 'karatas', 'lamia', 'lamia', 'lamia', 'lamia', 'lamia', 'tashir', 'sitia', 'lamia', 'lamia', 'sitia', 'sitia', 'polygyros', 'kas', 'aytos', 'didim', 'lamia', 'orchomenos', 'orchomenos', 'orchomenos', 'vrontados', 'myrina', 'gotse delchev', 'gotse delchev', 'sitia', 'ierapetra', 'aliaga', 'archangelos', 'ochamchire', 'ninotsminda', 'moires', 'tympaki', 'tympaki', 'moires', 'archangelos', 'archangelos', 'moires', 'koufalia', 'moires', 'didim', 'argostolion', 'didim', 'moires', 'sitia', 'lamia', 'lamia', 'mournies', 'orchomenos', 'orchomenos', 'orchomenos', 'qvareli', 'moires', 'moires', 'telavi', 'livadeia', 'tekirova', 'ihtiman', 'ypsonas', 'vrontados', 'paros', 'frumusita', 'sitia', 'tulucesti', 'aigio', 'agios nikolaos', 'archangelos', 'tympaki', 'mournies', 'tulucesti', 'tulucesti', 'mournies', 'gargalianoi', 'kalamata', 'lagkadas', 'mournies', 'mournies', 'faliraki', 'mournies', 'mournies', 'mournies', 'moires', 'mournies', 'mournies', 'mournies', 'mournies', 'sitia', 'nehoiu', 'pergamos', 'mytilene', 'mournies', 'gazipasa', 'edremit', 'ruwandiz', 'kos', 'moires', 'moires', 'moires', 'ierapetra', 'mournies', 'maghar', 'tiberias', 'paphos', 'kocahasanl', 'moires', 'gokceada', 'nea kallikrateia', 'moires', 'kalamata', 'moires', 'bodrum', 'bodrum', 'ochamchire', 'almyros', 'mournies', 'moires', 'paphos', 'aliveri', 'hashtrud', 'khowy', 'mournies', 'moires', 'almyros', 'archangelos', 'myrina', 'ochamchire', 'ierapetra', 'palamas', 'mournies', 'odobesti', 'moires', 'al miqdadiyah', 'al miqdadiyah', 'almyros', 'paphos', 'kifri', 'sarpol-e zahab', 'alexandroupoli', 'sarpol-e zahab', 'mandali', 'ierapetra', 'archangelos', 'ierapetra', 'as sulaymaniyah', 'ovria', 'ierapetra', 'paphos', 'al miqdadiyah', 'nafplio', 'marmara ereglisi', 'marmara ereglisi', 'mournies', 'qvareli', 'mournies', 'mournies', 'mournies', 'sitia', 'beykonak', 'tekirova', 'side', 'duba-yurt', 'ierapetra', 'ierapetra', 'myrina', 'archangelos', 'mournies', 'kiato', 'myrina', 'ierapetra', 'sitia', 'kos', 'sitia', 'ilam', 'gazipasa', 'avsallar', 'sitia', 'sitia', 'ierapetra', 'moires', 'mournies', 'ierapetra', 'tympaki', 'megalopoli', 'tympaki', 'avsallar', 'gazipasa', 'sparti', 'mournies', 'mournies', 'amfissa', 'myrina', 'edremit', 'deir ez-zor', 'nehoiu', 'aigio', 'sinjar', 'datca', 'kas', 'gazipasa', 'chepelare', 'nafpaktos', 'argostolion', 'moires', 'sitia', 'paphos', 'mournies', 'ierapetra', 'kos', 'mournies', 'mournies', 'moires', 'denizciler', 'mutsalaul', 'mournies', 'demre', 'sitia', 'tympaki', 'parscov', 'karyes', 'mournies', 'xylokastro', 'nea alikarnassos', 'gurzuf', 'marmaris', 'avsallar', 'akhalkalaki', 'ierapetra', 'naxos', 'chania', 'ierapetra', 'naxos', 'sitia', 'amfissa', 'ierapetra', 'adilcevaz', 'ierapetra', 'dhromolaxia', 'ialysos', 'urechesti', 'sitia', 'archangelos', 'moires', 'sitia', 'velingrad', 'nehoiu', 'archangelos', 'archangelos', 'datca', 'anavyssos', 'neon karlovasion', 'skiathos', 'tympaki', 'aigio', 'myrina', 'gazipasa', 'sitia', 'terek', 'ierapetra', 'ierapetra', 'ierapetra', 'ierapetra', 'side', 'jamjamal', 'gazipasa', 'gazipasa', 'orchomenos', 'mournies', 'sitia', 'edremit', 'karystos', 'ozdere', 'ierapetra', 'ozdere', 'sitia', 'fethiye', 'tekirova', 'archangelos', 'skiathos', 'avsallar', 'moires', 'amfissa', 'sitia', 'karystos', 'archangelos', 'sitia', 'karyes', 'salmas', 'didim', 'myrina', 'gokceada', 'karyes', 'gokceada', 'karyes', 'karyes', 'gokceada', 'gokceada', 'gokceada', 'gokceada', 'karyes', 'myrina', 'gokceada', 'gokceada', 'gokceada', 'eceabat', 'eceabat', 'gokceada', 'eceabat', 'eceabat', 'myrina', 'gokceada', 'myrina', 'eceabat', 'karyes', 'eceabat', 'eceabat', 'gokceada', 'myrina', 'karyes', 'batroun', 'gokceada', 'eceabat', 'gokceada', 'myrina', 'karyes', 'karyes', 'myrina', 'gokceada', 'madan', 'tashir', 'gokceada', 'mournies', 'tympaki', 'nafplio', 'gokceada', 'karyes', 'gokceada', 'karyes', 'karyes', 'karyes', 'karyes', 'karyes', 'ierapetra', 'gokceada', 'gokceada', 'ierapetra', 'karyes', 'biga', 'gokceada', 'ierapetra', 'moires', 'ozdere', 'edremit', 'myrina', 'famagusta', 'karyes', 'skiathos', 'mytilene', 'moires', 'skiathos', 'gokceada', 'karyes', 'dortyol', 'moires', 'archangelos', 'archangelos', 'kas', 'sitia', 'ierapetra', 'myrina', 'sitia', 'mournies', 'mournies', 'gazipasa', 'archangelos', 'sitia', 'rodos', 'sitia', 'gokceada', 'archangelos', 'argostolion', 'moires', 'myrina', 'karystos', 'karystos', 'nafplio', 'karpenisi', 'cinarl', 'karpenisi', 'archangelos', 'ierapetra', 'famagusta', 'ierapetra', 'ierapetra', 'tyre', 'ierapetra', 'sitia', 'mournies', 'bandrma', 'sidon', 'moires', 'vanadzor', 'moires', 'moires', 'ierapetra', 'chania', 'eceabat', 'kos', 'kalymnos', 'finike', 'nea artaki', 'vasilikon', 'iskenderun', 'myrina', 'suez', 'ozurgeti', 'mournies', 'tympaki', 'sitia', 'rodos', 'ierapetra', 'ain sukhna', 'sitia', 'idil', 'mersa matruh', 'archangelos', 'rafina', 'mournies', 'sachkhere', 'tashir', 'moires', 'sitia', 'chania', 'archangelos', 'bodrum', 'archangelos', 'archangelos', 'archangelos', 'archangelos', 'archangelos', 'archangelos', 'nea moudhania', 'nea moudhania', 'nea moudhania', 'gazipasa', 'archangelos', 'paphos', 'neon karlovasion', 'ierapetra', 'mandali', 'kifri', 'deir ez-zor', 'nafpaktos', 'lavrio', 'sparti', 'archangelos', 'bcharre', 'sitia', 'aliveri', 'iskenderun', 'tekirova', 'myrina', 'myrina', 'tympaki', 'archangelos', 'demre', 'starchiojd', 'tekirova', 'koufalia', 'demre', 'moires', 'nafplio', 'moires', 'moires', 'sitia', 'moires', 'mournies', 'korinthos', 'moires', 'aigio', 'moires', 'aigio', 'nafpaktos', 'jablah', 'myrina', 'ierapetra', 'nafpaktos', 'moires', 'moires', 'dhromolaxia', 'skiathos', 'sitia', 'kos', 'kos', 'sitia', 'ovria', 'aghstafa', 'sitia', 'moires', 'moires', 'megalopoli', 'sitia', 'kato achaia', 'lentekhi', 'beykonak', 'sitia', 'beykonak', 'silopi', 'sinop', 'beykonak', 'beykonak', 'moires', 'fethiye', 'moires', 'xylokastro', 'anina', 'mournies', 'adilcevaz', 'skiathos', 'archangelos', 'aigio', 'argostolion', 'sitia', 'vrontados', 'sitia', 'gagliano del capo', 'turkler', 'piranshahr', 'sarigerme', 'skiathos', 'psachna', 'psachna', 'psachna', 'psachna', 'psachna', 'psachna', 'psachna', 'psachna', 'psachna', 'limassol', 'vanatori', 'ozdere', 'vrontados', 'paphos', 'datca', 'myrina', 'didim', 'vrontados', 'sitia', 'myrina', 'vrontados', 'kas', 'mytilene', 'gelibolu', 'mytilene', 'mytilene', 'mytilene', 'mytilene', 'focsani', 'nea ionia', 'amfissa', 'mytilene', 'argostolion', 'sinah', 'filiatra', 'mournies', 'culfa', 'nea anchialos', 'filiatra', 'filiatra', 'corfu', 'moires', 'mytilene', 'silopi', 'finike', 'protaras', 'nea moudhania', 'archangelos', 'mytilene', 'moires', 'xylokastro', 'moires', 'mournies', 'gazipasa', 'agios nikolaos', 'moires', 'sitia', 'cahri', 'sitia', 'kalamata', 'ierapetra', 'archangelos', 'sparti', 'mocesti', 'tobruk', 'moires', 'sitia', 'ayvack', 'aigio', 'kalinovskaya', 'mournies', 'kalymnos', 'tekirova', 'sitia', 'tulnici', 'ahar', 'ierapetra', 'oshnaviyeh', 'moires', 'moires', 'skiathos', 'kifri', 'tekirdag', 'gokceada', 'ierapetra', 'sliven', 'mournies', 'archangelos', 'deir ez-zor', 'paphos', 'nea alikarnassos', 'nafplio', 'sitia', 'sitia', 'sidon', 'kalamata', 'elbasan', 'ierapetra', 'archangelos', 'ypsonas', 'rosetta', 'berat', 'moires', 'archangelos', 'moires', 'archangelos', 'archangelos', 'archangelos', 'sparti', 'sitia', 'ialysos', 'kalymnos', 'lefka', 'karyes', 'myrina', 'myrina', 'sitia', 'ozdere', 'sitia', 'star dojran', 'kos', 'tympaki', 'anamur', 'aridaia', 'topolovgrad', 'archangelos', 'nerkin getashen', 'fethiye', 'archangelos', 'beykonak', 'aliveri', 'sitia', 'paphos', 'paphos', 'archangelos', 'sitia', 'sitia', 'sitia', 'sitia', 'sitia', 'sitia', 'sitia', 'sitia', 'sitia', 'sitia', 'sitia', 'sitia', 'sitia', 'sitia', 'ierapetra', 'moires', 'sitia', 'sitia', 'sitia', 'sitia', 'sitia', 'sitia', 'sitia', 'sitia', 'sitia', 'sitia', 'sparti', 'sitia', 'sitia', 'paros', 'sitia', 'sitia', 'sitia', 'tympaki', 'sitia', 'sitia', 'sitia', 'sitia', 'sitia', 'sitia', 'sitia', 'sitia', 'sitia', 'sitia', 'sitia', 'sitia', 'archangelos', 'sitia', 'sitia', 'sitia', 'sile', 'ierapetra', 'sitia', 'ierapetra', 'moires', 'archangelos', 'sitia', 'moires', 'moires', 'archangelos', 'myrina', 'ierapetra', 'sitia', 'sitia', 'sitia', 'moires', 'sitia', 'sitia', 'archangelos', 'tympaki', 'sitia', 'moires', 'moires', 'mournies', 'sitia', 'sitia', 'sitia', 'sitia', 'archangelos', 'karpenisi', 'beykonak', 'sitia', 'bodrum', 'goranboy', 'gargalianoi', 'sitia', 'sitia', 'sitia', 'sitia', 'datca', 'sitia', 'siatista', 'filiatra', 'filiatra', 'moires', 'ierapetra', 'sitia', 'ierapetra', 'psachna', 'ierapetra', 'sitia', 'barda', 'ierapetra', 'aqrah', 'piranshahr', 'edremit', 'sitia', 'kos', 'tympaki', 'latakia', 'messini', 'sitia', 'skiathos', 'sitia', 'rodos', 'kerch', 'kalymnos', 'beykonak', 'kusadas', 'ovria', 'kavarna', 'dhromolaxia', 'aliaga', 'limassol', 'archangelos', 'fethiye', 'kalymnos', 'karyes', 'tekirova', 'gurjaani', 'mournies', 'karatas', 'dhromolaxia', 'tympaki', 'rodos', 'ierapetra', 'archangelos', 'chios', 'ierapetra', 'aigio', 'paphos', 'moires', 'yalova', 'ierapetra', 'ierapetra', 'myrina', 'mersa matruh', 'gazipasa', 'gazipasa', 'gazipasa', 'al bardiyah', 'edremit', 'florina', 'zacharo', 'ierapetra', 'ierapetra', 'ierapetra', 'ierapetra', 'ierapetra', 'archangelos', 'marmara ereglisi', 'ierapetra', 'ierapetra', 'amaliada', 'gazipasa', 'edremit', 'oshnaviyeh', 'ierapetra', 'al alamayn', 'ujar', 'qutqashen', 'mournies', 'mytilene', 'sokhumi', 'moires', 'archangelos', 'tekirova', 'archangelos', 'archangelos', 'archangelos', 'ar raqqah', 'kavala', 'archangelos', 'tympaki', 'mournies', 'skiathos', 'mizil', 'tripoli', 'ierapetra', 'sitia', 'sparti', 'archangelos', 'agdas', 'sitia', 'myrina', 'gudauri', 'marmaris', 'mournies', 'neon karlovasion', 'ierapetra', 'mournies', 'megalopoli', 'chania', 'sitia', 'aliveri', 'aliveri', 'aliveri', 'marmara ereglisi', 'fethiye', 'sitia', 'moires', 'as sulaymaniyah', 'sitia', 'alagir', 'librazhd-qender', 'librazhd-qender', 'izbat al burj', 'izbat al burj', 'zonguldak', 'sitia', 'gazipasa', 'paphos', 'skiathos', 'megalopoli', 'sparti', 'paphos', 'rethymno', 'yakuplu', 'myrina', 'skiathos', 'sitia', 'karpenisi', 'lefkada', 'lefkada', 'sitia', 'lefkada', 'sitia', 'archangelos', 'gemlik', 'kalampaka', 'tekirdag', 'megalopoli', 'gazipasa', 'moires', 'tseri', 'gazipasa', 'sinop', 'ierapetra', 'sile', 'beykonak', 'sitia', 'kas', 'moires', 'nea alikarnassos', 'moires', 'limassol', 'archangelos', 'moires', 'ierapetra', 'archangelos', 'beykonak', 'mournies', 'agios nikolaos', 'nea moudhania', 'mournies', 'tirebolu', 'aigio', 'kalymnos', 'kalymnos', 'ypsonas', 'gazipasa', 'kalymnos', 'sitia', 'tympaki', 'aigio', 'ayvack', 'aigio', 'kavarna', 'sitia', 'marmara ereglisi', 'tripoli', 'urla', 'naxos', 'ierapetra', 'ierapetra', 'mournies', 'mournies', 'mournies', 'archangelos', 'agria', 'untsukul', 'sitia', 'paphos', 'sitia', 'sitia', 'tympaki', 'ierapetra', 'storozhevaya', 'chania', 'farsala', 'erdemli', 'ierapetra', 'mournies', 'tympaki', 'mournies', 'kastoria', 'aliveri', 'teberda', 'mournies', 'mournies', 'mournies', 'mournies', 'mournies', 'limassol', 'mournies', 'mournies', 'mournies', 'archangelos', 'ialysos', 'mournies', 'mournies', 'mournies', 'mournies', 'mournies', 'mournies', 'mournies', 'mersa matruh', 'mournies', 'kalymnos', 'fethiye', 'paralimni', 'lefka', 'gazipasa', 'kas', 'marmara ereglisi', 'tekirdag', 'yayladag', 'zakynthos', 'zakynthos', 'kas', 'nea alikarnassos', 'ierapetra', 'mournies', 'foca', 'mournies', 'vrontados', 'aliveri', 'mournies', 'almyros', 'marmaris', 'ierapetra', 'aegina', 'as sulaymaniyah', 'nova zagora', 'ierapetra', 'mytilene', 'gazipasa', 'sitia', 'sparti', 'aegina', 'aegina', 'karpenisi', 'karpenisi', 'ierapetra', 'kalymnos', 'archangelos', 'skiathos', 'skiathos', 'neon karlovasion', 'dali', 'gazipasa', 'belogorsk', 'sparti', 'sparti', 'piranshahr', 'tadmur', 'livadeia', 'aliveri', 'agria', 'resen', 'struga', 'belcista', 'aigio', 'tadmur', 'sandanski', 'orchomenos', 'archangelos', 'gudauta', 'ierapetra', 'argostolion', 'sitia', 'sitia', 'archangelos', 'sinjar', 'aegina', 'van', 'ierapetra', 'ierapetra', 'moires', 'argostolion', 'sitia', 'gazipasa', 'slanic', 'foca', 'ierapetra', 'paphos', 'paphos', 'skiathos', 'tympaki', 'skiathos', 'marmaris', 'kalymnos', 'mournies', 'myrina', 'sitia', 'paphos', 'yalova', 'khowy', 'piranshahr', 'khowy', 'khowy', 'kalamata', 'moires', 'yalova', 'sitia', 'sitia', 'ayvack', 'amasra', 'ayvack', 'ayvack', 'archangelos', 'beirut', 'ayvack', 'ayvack', 'khowy', 'kas', 'polygyros', 'aegina', 'sitia', 'kas', 'cnarck', 'rosetta', 'sitia', 'serres', 'myrina', 'kas', 'akhalkalaki', 'tashir', 'serres', 'beykonak', 'messini', 'sarigerme', 'mournies', 'kas', 'kalymnos', 'orchomenos', 'tashir', 'beykonak', 'sinop', 'argostolion', 'tadmur', 'tadmur', 'paphos', 'paphos', 'paphos', 'paphos', 'tadmur', 'aegina', 'paphos', 'paphos', 'paphos', 'avsallar', 'sitia', 'loutraki', 'ar raqqah', 'sokhumi', 'chakvi', 'mournies', 'tympaki', 'mournies', 'mournies', 'xylokastro', 'aigio', 'ierapetra', 'lagkadas', 'paphos', 'aigio', 'ierapetra', 'archangelos', 'archangelos', 'mournies', 'nea moudhania', 'mournies', 'sitia', 'sitia', 'mournies', 'tekirova', 'kalamata', 'archangelos', 'adilcevaz', 'faliraki', 'agria', 'agria', 'aliveri', 'aliveri', 'gagra', 'chania', 'agria', 'datca', 'librazhd-qender', 'vasilikon', 'lefkada', 'gagra', 'sitia', 'afantou', 'zaqatala', 'aliveri', 'sitia', 'naxos', 'ayvack', 'sitia', 'myrina', 'skiathos', 'petrich', 'sidirokastro', 'moires', 'argostolion', 'ochamchire', 'paphos', 'tulnici', 'sitia', 'myrina', 'datca', 'tabriz', 'kalamata', 'moires', 'skiathos', 'sitia', 'tympaki', 'mournies', 'zakynthos', 'sitia', 'moires', 'mournies', 'kilkis', 'ioannina', 'ioannina', 'eregli', 'sitia', 'ioannina', 'ioannina', 'ioannina', 'ioannina', 'anatoli', 'ioannina', 'ioannina', 'ioannina', 'ioannina', 'ioannina', 'ioannina', 'ioannina', 'ioannina', 'ioannina', 'kalampaka', 'ioannina', 'ioannina', 'bolnisi', 'neon karlovasion', 'kalamata', 'mournies', 'ioannina', 'beykonak', 'nafpaktos', 'ierapetra', 'ioannina', 'neon karlovasion', 'megalopoli', 'aigio', 'lamia', 'sitia', 'sidon', 'sarande', 'skiathos', 'psachna', 'dagomys', 'kalymnos', 'sitia', 'skiathos', 'chiatura', 'dhromolaxia', 'sitia', 'paphos', 'kilkis', 'kilkis', 'sitia', 'kalymnos', 'kalymnos', 'kalymnos', 'tabriz', 'gazi', 'kalymnos', 'mournies', 'kilkis', 'ierapetra', 'moires', 'kilkis', 'moires', 'tyre', 'ierapetra', 'al hasakah', 'mournies', 'ierapetra', 'ypsonas', 'sitia', 'polygyros', 'kilkis', 'paphos', 'paphos', 'paphos', 'mournies', 'paphos', 'kilkis', 'mournies', 'gargalianoi', 'safed', 'aigio', 'moires', 'archangelos', 'myrina', 'dhrosia', 'ierapetra', 'sachkhere', 'sparti', 'lagkadas', 'kas', 'zonguldak', 'sitia', 'sitia', 'sitia', 'karpenisi', 'archangelos', 'mournies', 'kyrenia', 'kalymnos', 'paphos', 'skiathos', 'mournies', 'mournies', 'moires', 'trebinje', 'sitia', 'tallkayf', 'at tall al kabir', 'archangelos', 'archangelos', 'rosetta', 'nea moudhania', 'nehoiu', 'sparti', 'ierapetra', 'paphos', 'vrontados', 'chrysoupolis', 'serres', 'edremit', 'tympaki', 'sitia', 'zacharo', 'beykonak', 'lyaskovets', 'sitia', 'sitia', 'kalymnos', 'limassol', 'aigio', 'ierapetra', 'mournies', 'darnah', 'mournies', 'archangelos', 'anamur', 'kalamata', 'mournies', 'moires', 'mournies', 'mournies', 'megalopoli', 'akhaltsikhe', 'bilbays', 'mournies', 'mournies', 'at tall al kabir', 'filiatra', 'sitia', 'side', 'vrontados', 'sitia', 'archangelos', 'polican', 'moires', 'moires', 'archangelos', 'side', 'archangelos', 'nehoiu', 'tulnici', 'moires', 'sitia', 'moires', 'oshnaviyeh', 'moires', 'kalymnos', 'al hasakah', 'erseke', 'kiato', 'sparti', 'archangelos', 'mournies', 'mournies', 'mournies', 'agria', 'agria', 'kapan', 'ierapetra', 'sitia', 'zakynthos', 'rethymno', 'mournies', 'aliveri', 'sachkhere', 'archangelos', 'archangelos', 'sparti', 'paphos', 'megalopoli', 'ierapetra', 'sparti', 'anavyssos', 'ninotsminda', 'tympaki', 'mournies', 'mournies', 'ayvack', 'myrina', 'mournies', 'moires', 'neon karlovasion', 'tympaki', 'sparti', 'dhrosia', 'mournies', 'neon karlovasion', 'nea moudhania', 'mournies', 'skiathos', 'rreshen', 'mournies', 'edremit', 'sparti', 'aridaia', 'ierapetra', 'gokceada', 'moires', 'datca', 'ierapetra', 'sitia', 'mournies', 'skiathos', 'skiathos', 'zakynthos', 'gargalianoi', 'kalymnos', 'qarah zia od din', 'marmaris', 'sitia', 'al bardiyah', 'sinah', 'sitia', 'ierapetra', 'sageata', 'ayvack', 'ayvack', 'siatista', 'cide', 'sinjar', 'kusadas', 'myrina', 'tashir', 'sitia', 'ozdere', 'lamia', 'gradsko', 'tekirova', 'lefka', 'tympaki', 'archangelos', 'archangelos', 'sitia', 'archangelos', 'archangelos', 'archangelos', 'sitia', 'sitia', 'paralimni', 'mournies', 'sitia', 'mournies', 'ypsonas', 'gazipasa', 'naxos', 'mournies', 'tsnori', 'mournies', 'ierapetra', 'mytilene', 'mytilene', 'mytilene', 'mytilene', 'mytilene', 'mytilene', 'mytilene', 'mytilene', 'foca', 'mytilene', 'mytilene', 'mytilene', 'mytilene', 'mytilene', 'mytilene', 'mytilene', 'mytilene', 'mytilene', 'mytilene', 'mytilene', 'mytilene', 'vrontados', 'mytilene', 'mytilene', 'mytilene', 'foca', 'mytilene', 'mytilene', 'mytilene', 'mytilene', 'mytilene', 'mytilene', 'mytilene', 'mournies', 'mytilene', 'mytilene', 'mytilene', 'nafplio', 'anapa', 'mingelchaur', 'foca', 'vrontados', 'mytilene', 'mytilene', 'mytilene', 'mytilene', 'mytilene', 'mytilene', 'foca', 'mytilene', 'mytilene', 'mytilene', 'mytilene', 'mytilene', 'mytilene', 'agria', 'agria', 'mytilene', 'foca', 'mytilene', 'mytilene', 'mournies', 'rethymno', 'sitia', 'foca', 'mytilene', 'foca', 'foca', 'dhrosia', 'foca', 'mytilene', 'chios', 'foca', 'mytilene', 'mournies', 'foca', 'archangelos', 'sitia', 'urla', 'mytilene', 'mournies', 'ierapetra', 'ierapetra', 'ierapetra', 'ierapetra', 'ierapetra', 'ierapetra', 'aigio', 'aigio', 'ierapetra', 'bodrum', 'bodrum', 'bodrum', 'datca', 'bodrum', 'datca', 'datca', 'bodrum', 'kos', 'bodrum', 'kos', 'kos', 'bodrum', 'bodrum', 'kos', 'bodrum', 'datca', 'bodrum', 'bodrum', 'bodrum', 'bodrum', 'ayvack', 'amfissa', 'bodrum', 'datca', 'archangelos', 'bodrum', 'bodrum', 'bodrum', 'ierapetra', 'datca', 'datca', 'bodrum', 'bodrum', 'bodrum', 'bodrum', 'datca', 'bodrum', 'bodrum', 'turgutreis', 'datca', 'bodrum', 'bodrum', 'bodrum', 'datca', 'datca', 'bodrum', 'kos', 'bodrum', 'datca', 'bodrum', 'datca', 'bodrum', 'bodrum', 'bodrum', 'datca', 'bodrum', 'bodrum', 'datca', 'kalymnos', 'kos', 'bodrum', 'kos', 'kos', 'bodrum', 'bodrum', 'datca', 'bodrum', 'bodrum', 'bodrum', 'datca', 'kos', 'datca', 'datca', 'datca', 'datca', 'bodrum', 'datca', 'kalymnos', 'bodrum', 'bodrum', 'datca', 'bodrum', 'bodrum', 'bodrum', 'bodrum', 'kos', 'kos', 'bodrum', 'foca', 'foca', 'bodrum', 'bodrum', 'bodrum', 'bodrum', 'bodrum', 'mudanya', 'bodrum', 'bodrum', 'bodrum', 'myrina', 'bodrum', 'oshnaviyeh', 'moires', 'bodrum', 'kos', 'bodrum', 'bodrum', 'bodrum', 'bodrum', 'bodrum', 'bodrum', 'bodrum', 'tympaki', 'bodrum', 'bodrum', 'ierapetra', 'ozalp', 'simav', 'susehri', 'ardahan', 'altnekin', 'akhisar', 'krkagac', 'gurun', 'ozalp', 'ozalp', 'ozalp', 'amasra', 'emet', 'gokceada', 'gokceada', 'gokceada', 'domanic', 'emet', 'eleskirt', 'gemlik', 'doganyol', 'biga', 'goynuk', 'varto', 'tekman', 'van', 'semdinli', 'ozalp', 'van', 'yahyal', 'honaz', 'akhisar', 'emet', 'akhaltsikhe', 'tuzlukcu', 'semdinli', 'kose', 'honaz', 'emet', 'nurdag', 'menderes', 'eskisehir', 'gevas', 'kadirli', 'mustafakemalpasa', 'tercan', 'ortaca', 'ortaca', 'kozan', 'nurdag', 'bucak', 'uludere', 'simav', 'khowy', 'demre', 'erbaa', 'erbaa', 'simav', 'ezine', 'hekimhan', 'kale', 'karlova', 'cerkes', 'ula', 'hizan', 'karakocan', 'karakocan', 'karakocan', 'karakocan', 'hekimhan', 'yerkoy', 'cerkes', 'krkagac', 'hekimhan', 'caglayancerit', 'kale', 'golhisar', 'golmarmara', 'kas', 'saroglan', 'hakkari', 'bodrum', 'ruwandiz', 'akyaz', 'gonen', 'simav', 'simav', 'foca', 'ceyhan', 'tosya', 'hozat', 'ilgn', 'ercis', 'hassa', 'hassa', 'balkesir', 'kilis', 'bolu', 'cimin', 'kas', 'hizan', 'karakocan', 'salqin', 'datca', 'karlova', 'kas', 'aksu', 'corum', 'demirtas', 'demirtas', 'bingol', 'karlova', 'sincik', 'koyulhisar', 'ercis', 'erzin', 'antalya', 'adana', 'cesme', 'manisa', 'karlova', 'ortaca', 'kale', 'sabanozu', 'sabanozu', 'sabanozu', 'gevas', 'gevas', 'yerkoy', 'akhisar', 'akhisar', 'akhisar', 'akhisar', 'gemlik', 'pamukkale', 'pamukkale', 'hendek', 'merkezefendi', 'hekimhan', 'van', 'refahiye', 'ozalp', 'ozalp', 'ozalp', 'ozalp', 'ozalp', 'fethiye', 'turuncova', 'silifke', 'cerkes', 'sndrg', 'ayvack', 'samsat', 'samsat', 'samsat', 'zile', 'saruhanl', 'saruhanl', 'saruhanl']\n"
     ]
    }
   ],
   "source": [
    "# lo siguiente era para obtener las ciudades de todos los terremotos pero, al hacer muchas peticiones, tardaba demasiado\n",
    "'''\n",
    "res = []\n",
    "\n",
    "for row in data.index: \n",
    "    res.append(get_city(data.loc[row, 'coords']))\n",
    "print(res)\n",
    "'''"
   ]
  },
  {
   "cell_type": "code",
   "execution_count": 25,
   "metadata": {},
   "outputs": [
    {
     "data": {
      "text/html": [
       "<div>\n",
       "<style scoped>\n",
       "    .dataframe tbody tr th:only-of-type {\n",
       "        vertical-align: middle;\n",
       "    }\n",
       "\n",
       "    .dataframe tbody tr th {\n",
       "        vertical-align: top;\n",
       "    }\n",
       "\n",
       "    .dataframe thead th {\n",
       "        text-align: right;\n",
       "    }\n",
       "</style>\n",
       "<table border=\"1\" class=\"dataframe\">\n",
       "  <thead>\n",
       "    <tr style=\"text-align: right;\">\n",
       "      <th></th>\n",
       "      <th>id</th>\n",
       "      <th>date</th>\n",
       "      <th>time</th>\n",
       "      <th>lat</th>\n",
       "      <th>long</th>\n",
       "      <th>city</th>\n",
       "      <th>area</th>\n",
       "      <th>richter</th>\n",
       "      <th>year</th>\n",
       "      <th>coords</th>\n",
       "      <th>city2</th>\n",
       "    </tr>\n",
       "  </thead>\n",
       "  <tbody>\n",
       "    <tr>\n",
       "      <th>1</th>\n",
       "      <td>2.010000e+13</td>\n",
       "      <td>2007.08.01</td>\n",
       "      <td>12:03:08 AM</td>\n",
       "      <td>40.79</td>\n",
       "      <td>30.09</td>\n",
       "      <td>kocaeli</td>\n",
       "      <td>bayraktar_izmit</td>\n",
       "      <td>4.0</td>\n",
       "      <td>2007</td>\n",
       "      <td>(40.79, 30.09)</td>\n",
       "      <td>kosekoy</td>\n",
       "    </tr>\n",
       "    <tr>\n",
       "      <th>6</th>\n",
       "      <td>2.010000e+13</td>\n",
       "      <td>2012.06.24</td>\n",
       "      <td>12:07:22 AM</td>\n",
       "      <td>38.75</td>\n",
       "      <td>43.61</td>\n",
       "      <td>van</td>\n",
       "      <td>ilikaynak</td>\n",
       "      <td>4.5</td>\n",
       "      <td>2012</td>\n",
       "      <td>(38.75, 43.61)</td>\n",
       "      <td>ozalp</td>\n",
       "    </tr>\n",
       "    <tr>\n",
       "      <th>9</th>\n",
       "      <td>2.010000e+13</td>\n",
       "      <td>2011.10.28</td>\n",
       "      <td>12:47:56 AM</td>\n",
       "      <td>38.76</td>\n",
       "      <td>43.54</td>\n",
       "      <td>van</td>\n",
       "      <td>degirmenozu</td>\n",
       "      <td>4.2</td>\n",
       "      <td>2011</td>\n",
       "      <td>(38.76, 43.54)</td>\n",
       "      <td>van</td>\n",
       "    </tr>\n",
       "    <tr>\n",
       "      <th>10</th>\n",
       "      <td>2.010000e+13</td>\n",
       "      <td>2013.05.01</td>\n",
       "      <td>12:47:56 AM</td>\n",
       "      <td>37.31</td>\n",
       "      <td>37.11</td>\n",
       "      <td>kahramanmaras</td>\n",
       "      <td>ordekdede_pazarcik</td>\n",
       "      <td>3.5</td>\n",
       "      <td>2013</td>\n",
       "      <td>(37.31, 37.11)</td>\n",
       "      <td>pazarck</td>\n",
       "    </tr>\n",
       "    <tr>\n",
       "      <th>15</th>\n",
       "      <td>2.010000e+13</td>\n",
       "      <td>2011.05.22</td>\n",
       "      <td>12:49:49 AM</td>\n",
       "      <td>39.13</td>\n",
       "      <td>29.04</td>\n",
       "      <td>kutahya</td>\n",
       "      <td>kapikaya_simav</td>\n",
       "      <td>3.9</td>\n",
       "      <td>2011</td>\n",
       "      <td>(39.13, 29.04)</td>\n",
       "      <td>simav</td>\n",
       "    </tr>\n",
       "  </tbody>\n",
       "</table>\n",
       "</div>"
      ],
      "text/plain": [
       "              id        date         time    lat   long           city  \\\n",
       "1   2.010000e+13  2007.08.01  12:03:08 AM  40.79  30.09        kocaeli   \n",
       "6   2.010000e+13  2012.06.24  12:07:22 AM  38.75  43.61            van   \n",
       "9   2.010000e+13  2011.10.28  12:47:56 AM  38.76  43.54            van   \n",
       "10  2.010000e+13  2013.05.01  12:47:56 AM  37.31  37.11  kahramanmaras   \n",
       "15  2.010000e+13  2011.05.22  12:49:49 AM  39.13  29.04        kutahya   \n",
       "\n",
       "                  area  richter  year          coords    city2  \n",
       "1      bayraktar_izmit      4.0  2007  (40.79, 30.09)  kosekoy  \n",
       "6            ilikaynak      4.5  2012  (38.75, 43.61)    ozalp  \n",
       "9          degirmenozu      4.2  2011  (38.76, 43.54)      van  \n",
       "10  ordekdede_pazarcik      3.5  2013  (37.31, 37.11)  pazarck  \n",
       "15      kapikaya_simav      3.9  2011  (39.13, 29.04)    simav  "
      ]
     },
     "execution_count": 25,
     "metadata": {},
     "output_type": "execute_result"
    }
   ],
   "source": [
    "data['city2'] = res\n",
    "data.head()"
   ]
  },
  {
   "cell_type": "code",
   "execution_count": 22,
   "metadata": {},
   "outputs": [],
   "source": [
    "data.to_csv('data_cities.csv')"
   ]
  },
  {
   "cell_type": "code",
   "execution_count": 16,
   "metadata": {},
   "outputs": [],
   "source": [
    "data = pd.read_csv('data_cities.csv')"
   ]
  },
  {
   "cell_type": "code",
   "execution_count": 82,
   "metadata": {},
   "outputs": [
    {
     "data": {
      "text/plain": [
       "2011    804\n",
       "2012    667\n",
       "2013    613\n",
       "2017    571\n",
       "2016    569\n",
       "2014    563\n",
       "2015    534\n",
       "2007    306\n",
       "2010    303\n",
       "2008    303\n",
       "2005    301\n",
       "2009    280\n",
       "2006    169\n",
       "2004    153\n",
       "Name: year, dtype: int64"
      ]
     },
     "execution_count": 82,
     "metadata": {},
     "output_type": "execute_result"
    }
   ],
   "source": [
    "data = data.query('year >= 2004')\n",
    "data['year'].value_counts()"
   ]
  },
  {
   "cell_type": "code",
   "execution_count": 83,
   "metadata": {},
   "outputs": [],
   "source": [
    "# clasificar Qs según los meses del año\n",
    "bins = [0, 4, 5, 7]\n",
    "data['richter_bins'] = pd.cut(data['richter'], bins)"
   ]
  },
  {
   "cell_type": "code",
   "execution_count": 85,
   "metadata": {},
   "outputs": [],
   "source": [
    "# analysis\n",
    "date_richter = pd.pivot_table(data, values = 'date', index = 'year', columns = 'richter_bins', aggfunc = len, fill_value = 0)"
   ]
  },
  {
   "cell_type": "code",
   "execution_count": 86,
   "metadata": {},
   "outputs": [
    {
     "data": {
      "text/html": [
       "<div>\n",
       "<style scoped>\n",
       "    .dataframe tbody tr th:only-of-type {\n",
       "        vertical-align: middle;\n",
       "    }\n",
       "\n",
       "    .dataframe tbody tr th {\n",
       "        vertical-align: top;\n",
       "    }\n",
       "\n",
       "    .dataframe thead th {\n",
       "        text-align: right;\n",
       "    }\n",
       "</style>\n",
       "<table border=\"1\" class=\"dataframe\">\n",
       "  <thead>\n",
       "    <tr style=\"text-align: right;\">\n",
       "      <th>richter_bins</th>\n",
       "      <th>(0, 4]</th>\n",
       "      <th>(4, 5]</th>\n",
       "      <th>(5, 7]</th>\n",
       "    </tr>\n",
       "    <tr>\n",
       "      <th>year</th>\n",
       "      <th></th>\n",
       "      <th></th>\n",
       "      <th></th>\n",
       "    </tr>\n",
       "  </thead>\n",
       "  <tbody>\n",
       "    <tr>\n",
       "      <th>2004</th>\n",
       "      <td>83</td>\n",
       "      <td>62</td>\n",
       "      <td>8</td>\n",
       "    </tr>\n",
       "    <tr>\n",
       "      <th>2005</th>\n",
       "      <td>169</td>\n",
       "      <td>115</td>\n",
       "      <td>17</td>\n",
       "    </tr>\n",
       "    <tr>\n",
       "      <th>2006</th>\n",
       "      <td>100</td>\n",
       "      <td>65</td>\n",
       "      <td>4</td>\n",
       "    </tr>\n",
       "    <tr>\n",
       "      <th>2007</th>\n",
       "      <td>206</td>\n",
       "      <td>90</td>\n",
       "      <td>10</td>\n",
       "    </tr>\n",
       "    <tr>\n",
       "      <th>2008</th>\n",
       "      <td>214</td>\n",
       "      <td>82</td>\n",
       "      <td>7</td>\n",
       "    </tr>\n",
       "  </tbody>\n",
       "</table>\n",
       "</div>"
      ],
      "text/plain": [
       "richter_bins  (0, 4]  (4, 5]  (5, 7]\n",
       "year                                \n",
       "2004              83      62       8\n",
       "2005             169     115      17\n",
       "2006             100      65       4\n",
       "2007             206      90      10\n",
       "2008             214      82       7"
      ]
     },
     "execution_count": 86,
     "metadata": {},
     "output_type": "execute_result"
    }
   ],
   "source": [
    "date_richter.head()"
   ]
  },
  {
   "cell_type": "code",
   "execution_count": 134,
   "metadata": {},
   "outputs": [
    {
     "data": {
      "image/png": "[encoded data removed]",
      "text/plain": [
       "<Figure size 432x288 with 1 Axes>"
      ]
     },
     "metadata": {
      "needs_background": "light"
     },
     "output_type": "display_data"
    }
   ],
   "source": [
    "N = len(date_richter)\n",
    "x = list(date_richter.iloc[:, 2])\n",
    "y = list(date_richter.iloc[:, 1])\n",
    "z = list(date_richter.iloc[:, 0])\n",
    "ind = np.arange(N)\n",
    "\n",
    "p1 = plt.bar(ind, z, color = '#87cefa')\n",
    "p2 = plt.bar(ind, y, bottom = z, color = '#1e90ff')\n",
    "p3 = plt.bar(ind, x, bottom = ([sum(x) for x in zip(y, z)]), color = ('#0000cd'))\n",
    "\n",
    "plt.ylabel('Earthquakes')\n",
    "plt.xlabel('Years')\n",
    "plt.title('Earthquakes by year and Richter Scale')\n",
    "plt.xticks(ind, ['\\'' + (str(x)[2:]) for x in list(date_richter.index)])\n",
    "plt.legend((p3[0], p2[0], p1[0]), ('(5, 7]', '(4, 5]', '(0, 4]'))\n",
    "plt.show()"
   ]
  },
  {
   "cell_type": "code",
   "execution_count": 164,
   "metadata": {},
   "outputs": [
    {
     "name": "stdout",
     "output_type": "stream",
     "text": [
      "['sitia', 'ercis', 'van', 'archangelos', 'ierapetra', 'mournies', 'moires', 'simav', 'myrina', 'bodrum', 'mytilene', 'ayvack', 'ozalp', 'datca', 'paphos']\n",
      "<class 'pandas.core.series.Series'>\n"
     ]
    }
   ],
   "source": [
    "top15cities = data['city2'].value_counts()[:15]\n",
    "top15cities.reset_index()\n",
    "top15cities.columns = ['city', 'earthquakes']\n",
    "print(list(top15cities.index))\n",
    "top15cities.columns\n",
    "print(type(top15cities))"
   ]
  },
  {
   "cell_type": "code",
   "execution_count": 170,
   "metadata": {},
   "outputs": [
    {
     "data": {
      "image/png": "[encoded data removed]",
      "text/plain": [
       "<Figure size 432x288 with 1 Axes>"
      ]
     },
     "metadata": {
      "needs_background": "light"
     },
     "output_type": "display_data"
    }
   ],
   "source": [
    "height = list(top15cities)[::-1]\n",
    "bars = list(top15cities.index)[::-1]\n",
    "y_pos = np.arange(len(bars))\n",
    " \n",
    "# Create horizontal bars\n",
    "plt.barh(y_pos, height, color = '#1e90ff')\n",
    " \n",
    "# Create names on the y-axis\n",
    "plt.yticks(y_pos, bars)\n",
    "plt.show()"
   ]
  }
 ],
 "metadata": {
  "kernelspec": {
   "display_name": "Python 3",
   "language": "python",
   "name": "python3"
  },
  "language_info": {
   "codemirror_mode": {
    "name": "ipython",
    "version": 3
   },
   "file_extension": ".py",
   "mimetype": "text/x-python",
   "name": "python",
   "nbconvert_exporter": "python",
   "pygments_lexer": "ipython3",
   "version": "3.6.7"
  }
 },
 "nbformat": 4,
 "nbformat_minor": 2
}
